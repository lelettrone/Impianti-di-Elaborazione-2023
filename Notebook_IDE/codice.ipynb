{
 "cells": [
  {
   "cell_type": "code",
   "execution_count": 2,
   "metadata": {},
   "outputs": [
    {
     "name": "stdout",
     "output_type": "stream",
     "text": [
      "Collecting reliability\n",
      "  Downloading reliability-0.8.6-py3-none-any.whl (247 kB)\n",
      "Requirement already satisfied: scipy>=1.7.0 in c:\\users\\eleun\\anaconda3\\lib\\site-packages (from reliability) (1.7.1)\n",
      "Requirement already satisfied: pandas>=1.1.2 in c:\\users\\eleun\\anaconda3\\lib\\site-packages (from reliability) (1.3.4)\n",
      "Collecting autograd-gamma>=0.5.0\n",
      "  Downloading autograd-gamma-0.5.0.tar.gz (4.0 kB)\n",
      "Requirement already satisfied: numpy>=1.19.2 in c:\\users\\eleun\\anaconda3\\lib\\site-packages (from reliability) (1.20.3)\n",
      "Collecting mplcursors>=0.3\n",
      "  Downloading mplcursors-0.5.2.tar.gz (89 kB)\n",
      "Collecting matplotlib>=3.5.0\n",
      "  Downloading matplotlib-3.6.2-cp39-cp39-win_amd64.whl (7.2 MB)\n",
      "Collecting autograd>=1.3\n",
      "  Downloading autograd-1.5-py3-none-any.whl (48 kB)\n",
      "Requirement already satisfied: docutils<0.18 in c:\\users\\eleun\\anaconda3\\lib\\site-packages (from reliability) (0.17.1)\n",
      "Requirement already satisfied: future>=0.15.2 in c:\\users\\eleun\\anaconda3\\lib\\site-packages (from autograd>=1.3->reliability) (0.18.2)\n",
      "Requirement already satisfied: python-dateutil>=2.7 in c:\\users\\eleun\\anaconda3\\lib\\site-packages (from matplotlib>=3.5.0->reliability) (2.8.2)\n",
      "Requirement already satisfied: kiwisolver>=1.0.1 in c:\\users\\eleun\\anaconda3\\lib\\site-packages (from matplotlib>=3.5.0->reliability) (1.3.1)\n",
      "Collecting contourpy>=1.0.1\n",
      "  Downloading contourpy-1.0.6-cp39-cp39-win_amd64.whl (161 kB)\n",
      "Requirement already satisfied: packaging>=20.0 in c:\\users\\eleun\\anaconda3\\lib\\site-packages (from matplotlib>=3.5.0->reliability) (21.0)\n",
      "Requirement already satisfied: pyparsing>=2.2.1 in c:\\users\\eleun\\anaconda3\\lib\\site-packages (from matplotlib>=3.5.0->reliability) (3.0.4)\n",
      "Requirement already satisfied: cycler>=0.10 in c:\\users\\eleun\\anaconda3\\lib\\site-packages (from matplotlib>=3.5.0->reliability) (0.10.0)\n",
      "Requirement already satisfied: pillow>=6.2.0 in c:\\users\\eleun\\anaconda3\\lib\\site-packages (from matplotlib>=3.5.0->reliability) (8.4.0)\n",
      "Requirement already satisfied: fonttools>=4.22.0 in c:\\users\\eleun\\anaconda3\\lib\\site-packages (from matplotlib>=3.5.0->reliability) (4.25.0)\n",
      "Requirement already satisfied: six in c:\\users\\eleun\\anaconda3\\lib\\site-packages (from cycler>=0.10->matplotlib>=3.5.0->reliability) (1.16.0)\n",
      "Requirement already satisfied: pytz>=2017.3 in c:\\users\\eleun\\anaconda3\\lib\\site-packages (from pandas>=1.1.2->reliability) (2021.3)\n",
      "Building wheels for collected packages: autograd-gamma, mplcursors\n",
      "Note: you may need to restart the kernel to use updated packages.\n",
      "  Building wheel for autograd-gamma (setup.py): started\n",
      "  Building wheel for autograd-gamma (setup.py): finished with status 'done'\n",
      "  Created wheel for autograd-gamma: filename=autograd_gamma-0.5.0-py3-none-any.whl size=4049 sha256=4cdc0fb50b6ab48a550438e00cd7f6e94b2c2740bde9f3b806ac0346ccfdf22e\n",
      "  Stored in directory: c:\\users\\eleun\\appdata\\local\\pip\\cache\\wheels\\a8\\03\\64\\8557323821d25118c3a2dc1646996f7a962a8970d4b7d22473\n",
      "  Building wheel for mplcursors (setup.py): started\n",
      "  Building wheel for mplcursors (setup.py): finished with status 'done'\n",
      "  Created wheel for mplcursors: filename=mplcursors-0.5.2-py3-none-any.whl size=21084 sha256=266917564a5cf7da47fd5faaaabcafed89705f4145992c5294ca16c6826e19c8\n",
      "  Stored in directory: c:\\users\\eleun\\appdata\\local\\pip\\cache\\wheels\\b1\\98\\ff\\4885c231adf3d185efdc38cf8aa2527f1b255ca714a43cb125\n",
      "Successfully built autograd-gamma mplcursors\n",
      "Installing collected packages: contourpy, matplotlib, autograd, mplcursors, autograd-gamma, reliability\n",
      "  Attempting uninstall: matplotlib\n",
      "    Found existing installation: matplotlib 3.4.3\n",
      "    Uninstalling matplotlib-3.4.3:\n",
      "      Successfully uninstalled matplotlib-3.4.3\n",
      "Successfully installed autograd-1.5 autograd-gamma-0.5.0 contourpy-1.0.6 matplotlib-3.6.2 mplcursors-0.5.2 reliability-0.8.6\n"
     ]
    }
   ],
   "source": [
    "pip install reliability"
   ]
  },
  {
   "cell_type": "code",
   "execution_count": 21,
   "metadata": {},
   "outputs": [],
   "source": [
    "import pandas as pd\n",
    "from scipy.optimize import curve_fit\n",
    "import scipy.stats\n",
    "\n",
    "# Data Visualization\n",
    "from matplotlib import pyplot as plt\n",
    "\n",
    "# Reliability\n",
    "from reliability.Fitters import Fit_Everything, Fit_Weibull_3P\n",
    "from reliability.Reliability_testing import KStest\n",
    "from reliability.Distributions import Weibull_Distribution, Lognormal_Distribution, Exponential_Distribution\n",
    "from reliability.Probability_plotting import plot_points\n",
    "from statsmodels.distributions.empirical_distribution import ECDF\n",
    "\n",
    "# Utilities\n",
    "import os\n",
    "import numpy as np\n",
    "from tqdm import tnrange\n",
    "from tqdm import tqdm_notebook as tqdmn\n",
    "\n",
    "# %matplotlib notebook\n",
    "# from IPython.core.interactiveshell import InteractiveShell"
   ]
  },
  {
   "cell_type": "code",
   "execution_count": 22,
   "metadata": {},
   "outputs": [],
   "source": [
    "def sensitivity_analysis(dataframe, c_wins, filepath):\n",
    "    if(not os.path.isfile(filepath)):\n",
    "        print('Creating file',filepath, 'this may take a while...\\n')\n",
    "        tuples = []\n",
    "\n",
    "        for win in c_wins:\n",
    "            tup = 1\n",
    "            prev = int(dataframe.loc[0,'Timestamp'])\n",
    "\n",
    "            for index in range(dataframe.shape[0]-1):\n",
    "                succ = int(dataframe.loc[index+1,'Timestamp'])\n",
    "                if  succ - prev >= win:\n",
    "                    tup = tup + 1\n",
    "                prev = succ\n",
    "  \n",
    "            tuples.append(tup)\n",
    "        \n",
    "        df_sens = pd.DataFrame(data = {'Window' : c_wins, 'Tuples' : tuples})\n",
    "        df_sens.to_csv(filepath)\n",
    "\n",
    "    else:\n",
    "        print('File already exists!\\n')\n",
    "        df_sens = pd.read_csv(filepath, index_col = 0)\n",
    "    \n",
    "    return df_sens   "
   ]
  },
  {
   "cell_type": "code",
   "execution_count": 23,
   "metadata": {},
   "outputs": [],
   "source": [
    "def tupling(dataframe, c_win, filepath):\n",
    "    if(not os.path.isfile(filepath)):\n",
    "        print('Creating file', filepath, 'this may take a while...\\n')\n",
    "        \n",
    "        tup = 0\n",
    "        prev = int(dataframe.loc[0,'Timestamp'])\n",
    "        dataframe.loc[0,'Tuple'] = 0\n",
    "\n",
    "        for index in range(dataframe.shape[0]-1):\n",
    "            succ = int(dataframe.loc[index+1,'Timestamp'])\n",
    "            if  succ - prev >= c_win:\n",
    "                tup = tup + 1\n",
    "            dataframe.loc[index+1,'Tuple'] = tup\n",
    "            prev = succ\n",
    "            \n",
    "        dataframe.to_csv(filepath)\n",
    "\n",
    "    else:\n",
    "        print('File already exists!\\n')\n",
    "        dataframe = pd.read_csv(filepath, index_col = 0)\n",
    "    \n",
    "    return dataframe\n"
   ]
  },
  {
   "cell_type": "code",
   "execution_count": 24,
   "metadata": {},
   "outputs": [],
   "source": [
    "def statistics(dataframe):\n",
    "    df_stat = pd.DataFrame(columns=['# Entries', 'Start time', 'End time', 'Length', 'Density', 'Interarrival'])\n",
    "\n",
    "    df_stat['# Entries'] = dataframe.groupby(by='Tuple').count()['Timestamp']\n",
    "    df_stat['Start time'] =  dataframe.groupby(by='Tuple').min(numeric_only = True)['Timestamp']\n",
    "    df_stat['End time'] =  dataframe.groupby(by='Tuple').max(numeric_only = True)['Timestamp']\n",
    "    df_stat['Length'] =  df_stat['End time'] - df_stat['Start time']\n",
    "    df_stat['Density'] = df_stat['# Entries'] / df_stat['Length']\n",
    "    df_temp = pd.DataFrame(data = {'Start time' : [np.nan]})\n",
    "    df_temp = df_temp.append(df_stat, ignore_index = True)\n",
    "    df_stat['Interarrival'] = (df_stat['Start time'] - df_temp['End time']).dropna().astype(int)\n",
    "        \n",
    "    return df_stat"
   ]
  },
  {
   "cell_type": "code",
   "execution_count": 25,
   "metadata": {},
   "outputs": [
    {
     "name": "stdout",
     "output_type": "stream",
     "text": [
      "Log file has 80854 entries and 5 columns.\n"
     ]
    },
    {
     "data": {
      "text/html": [
       "<div>\n",
       "<style scoped>\n",
       "    .dataframe tbody tr th:only-of-type {\n",
       "        vertical-align: middle;\n",
       "    }\n",
       "\n",
       "    .dataframe tbody tr th {\n",
       "        vertical-align: top;\n",
       "    }\n",
       "\n",
       "    .dataframe thead th {\n",
       "        text-align: right;\n",
       "    }\n",
       "</style>\n",
       "<table border=\"1\" class=\"dataframe\">\n",
       "  <thead>\n",
       "    <tr style=\"text-align: right;\">\n",
       "      <th></th>\n",
       "      <th>Timestamp</th>\n",
       "      <th>Node</th>\n",
       "      <th>Subsystem</th>\n",
       "      <th>Message</th>\n",
       "      <th>Type</th>\n",
       "    </tr>\n",
       "  </thead>\n",
       "  <tbody>\n",
       "    <tr>\n",
       "      <th>0</th>\n",
       "      <td>1167637660</td>\n",
       "      <td>tg-c645</td>\n",
       "      <td>PRO</td>\n",
       "      <td>+BEGIN HARDWARE ERROR STATE AT CMC</td>\n",
       "      <td>computation</td>\n",
       "    </tr>\n",
       "    <tr>\n",
       "      <th>1</th>\n",
       "      <td>1167637660</td>\n",
       "      <td>tg-c645</td>\n",
       "      <td>PRO</td>\n",
       "      <td>Device Error Info Section</td>\n",
       "      <td>computation</td>\n",
       "    </tr>\n",
       "    <tr>\n",
       "      <th>2</th>\n",
       "      <td>1167637660</td>\n",
       "      <td>tg-c645</td>\n",
       "      <td>PRO</td>\n",
       "      <td>Error Map: x</td>\n",
       "      <td>computation</td>\n",
       "    </tr>\n",
       "    <tr>\n",
       "      <th>3</th>\n",
       "      <td>1167637720</td>\n",
       "      <td>tg-c645</td>\n",
       "      <td>PRO</td>\n",
       "      <td>+BEGIN HARDWARE ERROR STATE AT CMC</td>\n",
       "      <td>computation</td>\n",
       "    </tr>\n",
       "    <tr>\n",
       "      <th>4</th>\n",
       "      <td>1167637720</td>\n",
       "      <td>tg-c645</td>\n",
       "      <td>PRO</td>\n",
       "      <td>Device Error Info Section</td>\n",
       "      <td>computation</td>\n",
       "    </tr>\n",
       "  </tbody>\n",
       "</table>\n",
       "</div>"
      ],
      "text/plain": [
       "    Timestamp     Node Subsystem                             Message         Type\n",
       "0  1167637660  tg-c645       PRO  +BEGIN HARDWARE ERROR STATE AT CMC  computation\n",
       "1  1167637660  tg-c645       PRO           Device Error Info Section  computation\n",
       "2  1167637660  tg-c645       PRO                        Error Map: x  computation\n",
       "3  1167637720  tg-c645       PRO  +BEGIN HARDWARE ERROR STATE AT CMC  computation\n",
       "4  1167637720  tg-c645       PRO           Device Error Info Section  computation"
      ]
     },
     "execution_count": 25,
     "metadata": {},
     "output_type": "execute_result"
    }
   ],
   "source": [
    "df_mercury = pd.read_csv('./MercuryErrorLog.txt', names = ['Timestamp', 'Node', 'Subsystem', 'Message'])\n",
    "\n",
    "df_mercury.loc[:,'Node'] = df_mercury.loc[:,'Timestamp'].str.split(' ', n=3).str[1]\n",
    "df_mercury.loc[:,'Subsystem'] = df_mercury.loc[:,'Timestamp'].str.split(' ', n=3).str[2]\n",
    "df_mercury.loc[:,'Message'] = df_mercury.loc[:,'Timestamp'].str.split(' ', n=3).str[3]\n",
    "df_mercury.loc[:,'Timestamp'] = df_mercury.loc[:,'Timestamp'].str.split(' ', n=3).str[0]\n",
    "\n",
    "df_mercury.loc[df_mercury['Node'].str.contains('login'), 'Type'] = 'login'\n",
    "df_mercury.loc[df_mercury['Node'].str.contains('c'), 'Type'] = 'computation'\n",
    "df_mercury.loc[df_mercury['Node'].str.contains('s'), 'Type'] = 'storage'\n",
    "df_mercury.loc[df_mercury['Node'].str.contains('master'), 'Type'] = 'master'\n",
    "\n",
    "print('Log file has ' + str(df_mercury.shape[0]) + ' entries and ' + str(df_mercury.shape[1]) + ' columns.')\n",
    "df_mercury.head()\n"
   ]
  },
  {
   "cell_type": "code",
   "execution_count": 26,
   "metadata": {},
   "outputs": [
    {
     "name": "stdout",
     "output_type": "stream",
     "text": [
      "File already exists!\n",
      "\n"
     ]
    },
    {
     "data": {
      "image/png": "[encoded data removed]",
      "text/plain": [
       "<Figure size 864x432 with 1 Axes>"
      ]
     },
     "metadata": {
      "needs_background": "light"
     },
     "output_type": "display_data"
    }
   ],
   "source": [
    "c_wins = np.delete(np.arange(0,2000,10), 0)\n",
    "\n",
    "filepath = './Mercury-Sensitivity.csv'\n",
    "\n",
    "df_mercury_sensitivity = sensitivity_analysis(df_mercury, c_wins, filepath)\n",
    "\n",
    "plt.figure(figsize=(12,6))\n",
    "plt.plot(df_mercury_sensitivity['Window'],df_mercury_sensitivity['Tuples'], label = '# Tuples')\n",
    "plt.xlabel('Window (s)')\n",
    "plt.ylabel('Tuple')\n",
    "plt.legend()\n",
    "plt.grid()\n",
    "plt.savefig(\"./Mercury_System_Sensitivity.png\", format = \"png\")\n",
    "plt.show()"
   ]
  },
  {
   "cell_type": "code",
   "execution_count": 27,
   "metadata": {},
   "outputs": [
    {
     "name": "stdout",
     "output_type": "stream",
     "text": [
      "File already exists!\n",
      "\n"
     ]
    },
    {
     "data": {
      "text/html": [
       "<div>\n",
       "<style scoped>\n",
       "    .dataframe tbody tr th:only-of-type {\n",
       "        vertical-align: middle;\n",
       "    }\n",
       "\n",
       "    .dataframe tbody tr th {\n",
       "        vertical-align: top;\n",
       "    }\n",
       "\n",
       "    .dataframe thead th {\n",
       "        text-align: right;\n",
       "    }\n",
       "</style>\n",
       "<table border=\"1\" class=\"dataframe\">\n",
       "  <thead>\n",
       "    <tr style=\"text-align: right;\">\n",
       "      <th></th>\n",
       "      <th>Timestamp</th>\n",
       "      <th>Node</th>\n",
       "      <th>Subsystem</th>\n",
       "      <th>Message</th>\n",
       "      <th>Type</th>\n",
       "      <th>Tuple</th>\n",
       "    </tr>\n",
       "  </thead>\n",
       "  <tbody>\n",
       "    <tr>\n",
       "      <th>80849</th>\n",
       "      <td>1174943008</td>\n",
       "      <td>tg-c196</td>\n",
       "      <td>I-O</td>\n",
       "      <td>hda: packet command error: error=x</td>\n",
       "      <td>computation</td>\n",
       "      <td>506</td>\n",
       "    </tr>\n",
       "    <tr>\n",
       "      <th>80850</th>\n",
       "      <td>1174943068</td>\n",
       "      <td>tg-c128</td>\n",
       "      <td>I-O</td>\n",
       "      <td>hda: packet command error: error=x</td>\n",
       "      <td>computation</td>\n",
       "      <td>506</td>\n",
       "    </tr>\n",
       "    <tr>\n",
       "      <th>80851</th>\n",
       "      <td>1174943068</td>\n",
       "      <td>tg-c128</td>\n",
       "      <td>I-O</td>\n",
       "      <td>hda: packet command error: error=x</td>\n",
       "      <td>computation</td>\n",
       "      <td>506</td>\n",
       "    </tr>\n",
       "    <tr>\n",
       "      <th>80852</th>\n",
       "      <td>1174943925</td>\n",
       "      <td>tg-c196</td>\n",
       "      <td>NET</td>\n",
       "      <td>connection down</td>\n",
       "      <td>computation</td>\n",
       "      <td>507</td>\n",
       "    </tr>\n",
       "    <tr>\n",
       "      <th>80853</th>\n",
       "      <td>1174943943</td>\n",
       "      <td>tg-c196</td>\n",
       "      <td>I-O</td>\n",
       "      <td>hda: packet command error: error=x</td>\n",
       "      <td>computation</td>\n",
       "      <td>507</td>\n",
       "    </tr>\n",
       "  </tbody>\n",
       "</table>\n",
       "</div>"
      ],
      "text/plain": [
       "        Timestamp     Node Subsystem                             Message         Type  Tuple\n",
       "80849  1174943008  tg-c196       I-O  hda: packet command error: error=x  computation    506\n",
       "80850  1174943068  tg-c128       I-O  hda: packet command error: error=x  computation    506\n",
       "80851  1174943068  tg-c128       I-O  hda: packet command error: error=x  computation    506\n",
       "80852  1174943925  tg-c196       NET                     connection down  computation    507\n",
       "80853  1174943943  tg-c196       I-O  hda: packet command error: error=x  computation    507"
      ]
     },
     "execution_count": 27,
     "metadata": {},
     "output_type": "execute_result"
    }
   ],
   "source": [
    "window = 200\n",
    "\n",
    "filepath = './Mercury-Data.csv'\n",
    "\n",
    "df_mercury = tupling(df_mercury, window, filepath)\n",
    "df_mercury = df_mercury.astype({'Timestamp' : 'int32', 'Tuple' : 'int32'})\n",
    "df_mercury.tail()"
   ]
  },
  {
   "cell_type": "code",
   "execution_count": 28,
   "metadata": {},
   "outputs": [
    {
     "name": "stdout",
     "output_type": "stream",
     "text": [
      "Number of tuples:  508\n"
     ]
    }
   ],
   "source": [
    "num_tuple = df_mercury.max(axis = 0).loc['Tuple'] + 1\n",
    "print('Number of tuples: ', num_tuple)\n"
   ]
  },
  {
   "cell_type": "code",
   "execution_count": 29,
   "metadata": {},
   "outputs": [
    {
     "data": {
      "text/html": [
       "<div>\n",
       "<style scoped>\n",
       "    .dataframe tbody tr th:only-of-type {\n",
       "        vertical-align: middle;\n",
       "    }\n",
       "\n",
       "    .dataframe tbody tr th {\n",
       "        vertical-align: top;\n",
       "    }\n",
       "\n",
       "    .dataframe thead th {\n",
       "        text-align: right;\n",
       "    }\n",
       "</style>\n",
       "<table border=\"1\" class=\"dataframe\">\n",
       "  <thead>\n",
       "    <tr style=\"text-align: right;\">\n",
       "      <th></th>\n",
       "      <th># Entries</th>\n",
       "      <th>Start time</th>\n",
       "      <th>End time</th>\n",
       "      <th>Length</th>\n",
       "      <th>Density</th>\n",
       "      <th>Interarrival</th>\n",
       "    </tr>\n",
       "    <tr>\n",
       "      <th>Tuple</th>\n",
       "      <th></th>\n",
       "      <th></th>\n",
       "      <th></th>\n",
       "      <th></th>\n",
       "      <th></th>\n",
       "      <th></th>\n",
       "    </tr>\n",
       "  </thead>\n",
       "  <tbody>\n",
       "    <tr>\n",
       "      <th>0</th>\n",
       "      <td>6</td>\n",
       "      <td>1167637660</td>\n",
       "      <td>1167637720</td>\n",
       "      <td>60</td>\n",
       "      <td>0.1</td>\n",
       "      <td>NaN</td>\n",
       "    </tr>\n",
       "    <tr>\n",
       "      <th>1</th>\n",
       "      <td>3</td>\n",
       "      <td>1167655228</td>\n",
       "      <td>1167655229</td>\n",
       "      <td>1</td>\n",
       "      <td>3</td>\n",
       "      <td>17508</td>\n",
       "    </tr>\n",
       "    <tr>\n",
       "      <th>2</th>\n",
       "      <td>61</td>\n",
       "      <td>1167657137</td>\n",
       "      <td>1167657302</td>\n",
       "      <td>165</td>\n",
       "      <td>0.369697</td>\n",
       "      <td>1908</td>\n",
       "    </tr>\n",
       "    <tr>\n",
       "      <th>3</th>\n",
       "      <td>14</td>\n",
       "      <td>1167657550</td>\n",
       "      <td>1167657550</td>\n",
       "      <td>0</td>\n",
       "      <td>inf</td>\n",
       "      <td>248</td>\n",
       "    </tr>\n",
       "    <tr>\n",
       "      <th>4</th>\n",
       "      <td>2</td>\n",
       "      <td>1167657941</td>\n",
       "      <td>1167657941</td>\n",
       "      <td>0</td>\n",
       "      <td>inf</td>\n",
       "      <td>391</td>\n",
       "    </tr>\n",
       "  </tbody>\n",
       "</table>\n",
       "</div>"
      ],
      "text/plain": [
       "       # Entries  Start time    End time  Length  Density  Interarrival\n",
       "Tuple                                                                  \n",
       "0              6  1167637660  1167637720      60      0.1           NaN\n",
       "1              3  1167655228  1167655229       1        3         17508\n",
       "2             61  1167657137  1167657302     165 0.369697          1908\n",
       "3             14  1167657550  1167657550       0      inf           248\n",
       "4              2  1167657941  1167657941       0      inf           391"
      ]
     },
     "execution_count": 29,
     "metadata": {},
     "output_type": "execute_result"
    }
   ],
   "source": [
    "df_sys_stat = statistics(df_mercury)\n",
    "df_sys_stat.head()\n"
   ]
  },
  {
   "cell_type": "code",
   "execution_count": 30,
   "metadata": {},
   "outputs": [
    {
     "data": {
      "image/png": "[encoded data removed]",
      "text/plain": [
       "<Figure size 864x432 with 1 Axes>"
      ]
     },
     "metadata": {
      "needs_background": "light"
     },
     "output_type": "display_data"
    }
   ],
   "source": [
    "x = df_sys_stat.index\n",
    "y = df_sys_stat['# Entries']\n",
    "\n",
    "plt.figure(figsize=(12,6))\n",
    "plt.scatter(x, y, marker = '.')\n",
    "plt.xlabel('Tuple')\n",
    "plt.ylabel('Entry')\n",
    "\n",
    "plt.savefig(\"./Mercury_System_Scatter_Tuple_Entry.png\", format = \"png\")\n",
    "plt.show()"
   ]
  },
  {
   "cell_type": "code",
   "execution_count": 31,
   "metadata": {},
   "outputs": [
    {
     "data": {
      "text/html": [
       "<div>\n",
       "<style scoped>\n",
       "    .dataframe tbody tr th:only-of-type {\n",
       "        vertical-align: middle;\n",
       "    }\n",
       "\n",
       "    .dataframe tbody tr th {\n",
       "        vertical-align: top;\n",
       "    }\n",
       "\n",
       "    .dataframe thead th {\n",
       "        text-align: right;\n",
       "    }\n",
       "</style>\n",
       "<table border=\"1\" class=\"dataframe\">\n",
       "  <thead>\n",
       "    <tr style=\"text-align: right;\">\n",
       "      <th></th>\n",
       "      <th>Timestamp</th>\n",
       "      <th>Node</th>\n",
       "      <th>Subsystem</th>\n",
       "      <th>Message</th>\n",
       "      <th>Type</th>\n",
       "      <th>Tuple</th>\n",
       "    </tr>\n",
       "  </thead>\n",
       "  <tbody>\n",
       "    <tr>\n",
       "      <th>18752</th>\n",
       "      <td>1171337536</td>\n",
       "      <td>tg-c401</td>\n",
       "      <td>DEV</td>\n",
       "      <td>+BEGIN HARDWARE ERROR STATE AT CPE</td>\n",
       "      <td>computation</td>\n",
       "      <td>298</td>\n",
       "    </tr>\n",
       "    <tr>\n",
       "      <th>18753</th>\n",
       "      <td>1171337536</td>\n",
       "      <td>tg-c401</td>\n",
       "      <td>DEV</td>\n",
       "      <td>+Platform PCI Component Error Info Section</td>\n",
       "      <td>computation</td>\n",
       "      <td>298</td>\n",
       "    </tr>\n",
       "    <tr>\n",
       "      <th>18754</th>\n",
       "      <td>1171337536</td>\n",
       "      <td>tg-c401</td>\n",
       "      <td>DEV</td>\n",
       "      <td>Component Info: Vendor Id =x x</td>\n",
       "      <td>computation</td>\n",
       "      <td>298</td>\n",
       "    </tr>\n",
       "    <tr>\n",
       "      <th>18755</th>\n",
       "      <td>1171337537</td>\n",
       "      <td>tg-c401</td>\n",
       "      <td>DEV</td>\n",
       "      <td>+END HARDWARE ERROR STATE AT CPE</td>\n",
       "      <td>computation</td>\n",
       "      <td>298</td>\n",
       "    </tr>\n",
       "    <tr>\n",
       "      <th>18756</th>\n",
       "      <td>1171337537</td>\n",
       "      <td>tg-c401</td>\n",
       "      <td>DEV</td>\n",
       "      <td>+Platform PCI Component Error Info Section</td>\n",
       "      <td>computation</td>\n",
       "      <td>298</td>\n",
       "    </tr>\n",
       "  </tbody>\n",
       "</table>\n",
       "</div>"
      ],
      "text/plain": [
       "        Timestamp     Node Subsystem                                     Message         Type  Tuple\n",
       "18752  1171337536  tg-c401       DEV          +BEGIN HARDWARE ERROR STATE AT CPE  computation    298\n",
       "18753  1171337536  tg-c401       DEV  +Platform PCI Component Error Info Section  computation    298\n",
       "18754  1171337536  tg-c401       DEV              Component Info: Vendor Id =x x  computation    298\n",
       "18755  1171337537  tg-c401       DEV            +END HARDWARE ERROR STATE AT CPE  computation    298\n",
       "18756  1171337537  tg-c401       DEV  +Platform PCI Component Error Info Section  computation    298"
      ]
     },
     "execution_count": 31,
     "metadata": {},
     "output_type": "execute_result"
    }
   ],
   "source": [
    "start_tup = 298\n",
    "end_tup = 330\n",
    "df_bottleneck = df_mercury.loc[(df_mercury['Tuple']>=start_tup) & (df_mercury['Tuple']<=end_tup)]\n",
    "df_bottleneck.head()"
   ]
  },
  {
   "cell_type": "code",
   "execution_count": 32,
   "metadata": {},
   "outputs": [
    {
     "name": "stdout",
     "output_type": "stream",
     "text": [
      "Tuple\n",
      "298    9825\n",
      "297    8590\n",
      "323    5883\n",
      "324    5065\n",
      "113    4049\n",
      "311    3884\n",
      "325    3772\n",
      "304    3583\n",
      "310    3536\n",
      "458    2938\n",
      "307    2412\n",
      "314    2057\n",
      "331    1550\n",
      "Name: Timestamp, dtype: int64\n"
     ]
    }
   ],
   "source": [
    "print(df_mercury.groupby(by='Tuple').Timestamp.count().sort_values(ascending=False).loc[lambda x : x >=1500])\n"
   ]
  },
  {
   "cell_type": "code",
   "execution_count": 33,
   "metadata": {},
   "outputs": [
    {
     "data": {
      "text/plain": [
       "Node\n",
       "tg-c401      51536\n",
       "tg-s176         10\n",
       "tg-c106          7\n",
       "tg-c407          4\n",
       "tg-master        2\n",
       "tg-s044          2\n",
       "Name: Timestamp, dtype: int64"
      ]
     },
     "execution_count": 33,
     "metadata": {},
     "output_type": "execute_result"
    }
   ],
   "source": [
    "df_bottleneck.groupby(by='Node').Timestamp.count().sort_values(ascending=False)"
   ]
  },
  {
   "cell_type": "code",
   "execution_count": 34,
   "metadata": {},
   "outputs": [
    {
     "data": {
      "text/html": [
       "<div>\n",
       "<style scoped>\n",
       "    .dataframe tbody tr th:only-of-type {\n",
       "        vertical-align: middle;\n",
       "    }\n",
       "\n",
       "    .dataframe tbody tr th {\n",
       "        vertical-align: top;\n",
       "    }\n",
       "\n",
       "    .dataframe thead th {\n",
       "        text-align: right;\n",
       "    }\n",
       "</style>\n",
       "<table border=\"1\" class=\"dataframe\">\n",
       "  <thead>\n",
       "    <tr style=\"text-align: right;\">\n",
       "      <th></th>\n",
       "      <th>Timestamp</th>\n",
       "      <th>Node</th>\n",
       "      <th>Subsystem</th>\n",
       "      <th>Message</th>\n",
       "      <th>Type</th>\n",
       "      <th>Tuple</th>\n",
       "    </tr>\n",
       "  </thead>\n",
       "  <tbody>\n",
       "    <tr>\n",
       "      <th>18752</th>\n",
       "      <td>1171337536</td>\n",
       "      <td>tg-c401</td>\n",
       "      <td>DEV</td>\n",
       "      <td>+BEGIN HARDWARE ERROR STATE AT CPE</td>\n",
       "      <td>computation</td>\n",
       "      <td>298</td>\n",
       "    </tr>\n",
       "    <tr>\n",
       "      <th>18753</th>\n",
       "      <td>1171337536</td>\n",
       "      <td>tg-c401</td>\n",
       "      <td>DEV</td>\n",
       "      <td>+Platform PCI Component Error Info Section</td>\n",
       "      <td>computation</td>\n",
       "      <td>298</td>\n",
       "    </tr>\n",
       "    <tr>\n",
       "      <th>18754</th>\n",
       "      <td>1171337536</td>\n",
       "      <td>tg-c401</td>\n",
       "      <td>DEV</td>\n",
       "      <td>Component Info: Vendor Id =x x</td>\n",
       "      <td>computation</td>\n",
       "      <td>298</td>\n",
       "    </tr>\n",
       "    <tr>\n",
       "      <th>18755</th>\n",
       "      <td>1171337537</td>\n",
       "      <td>tg-c401</td>\n",
       "      <td>DEV</td>\n",
       "      <td>+END HARDWARE ERROR STATE AT CPE</td>\n",
       "      <td>computation</td>\n",
       "      <td>298</td>\n",
       "    </tr>\n",
       "    <tr>\n",
       "      <th>18756</th>\n",
       "      <td>1171337537</td>\n",
       "      <td>tg-c401</td>\n",
       "      <td>DEV</td>\n",
       "      <td>+Platform PCI Component Error Info Section</td>\n",
       "      <td>computation</td>\n",
       "      <td>298</td>\n",
       "    </tr>\n",
       "  </tbody>\n",
       "</table>\n",
       "</div>"
      ],
      "text/plain": [
       "        Timestamp     Node Subsystem                                     Message         Type  Tuple\n",
       "18752  1171337536  tg-c401       DEV          +BEGIN HARDWARE ERROR STATE AT CPE  computation    298\n",
       "18753  1171337536  tg-c401       DEV  +Platform PCI Component Error Info Section  computation    298\n",
       "18754  1171337536  tg-c401       DEV              Component Info: Vendor Id =x x  computation    298\n",
       "18755  1171337537  tg-c401       DEV            +END HARDWARE ERROR STATE AT CPE  computation    298\n",
       "18756  1171337537  tg-c401       DEV  +Platform PCI Component Error Info Section  computation    298"
      ]
     },
     "execution_count": 34,
     "metadata": {},
     "output_type": "execute_result"
    }
   ],
   "source": [
    "df_bottleneck = df_bottleneck.loc[(df_bottleneck['Node']=='tg-c401')]\n",
    "df_bottleneck.head()"
   ]
  },
  {
   "cell_type": "code",
   "execution_count": 35,
   "metadata": {},
   "outputs": [
    {
     "name": "stdout",
     "output_type": "stream",
     "text": [
      "0.1 quantile: 280.6\n"
     ]
    }
   ],
   "source": [
    "q = df_sys_stat['Interarrival'].quantile(q=0.1)\n",
    "print(\"0.1 quantile: \" + str(q))"
   ]
  },
  {
   "cell_type": "code",
   "execution_count": 36,
   "metadata": {},
   "outputs": [
    {
     "data": {
      "text/html": [
       "<div>\n",
       "<style scoped>\n",
       "    .dataframe tbody tr th:only-of-type {\n",
       "        vertical-align: middle;\n",
       "    }\n",
       "\n",
       "    .dataframe tbody tr th {\n",
       "        vertical-align: top;\n",
       "    }\n",
       "\n",
       "    .dataframe thead th {\n",
       "        text-align: right;\n",
       "    }\n",
       "</style>\n",
       "<table border=\"1\" class=\"dataframe\">\n",
       "  <thead>\n",
       "    <tr style=\"text-align: right;\">\n",
       "      <th></th>\n",
       "      <th># Entries</th>\n",
       "      <th>Start time</th>\n",
       "      <th>End time</th>\n",
       "      <th>Length</th>\n",
       "      <th>Density</th>\n",
       "      <th>Interarrival</th>\n",
       "    </tr>\n",
       "    <tr>\n",
       "      <th>Tuple</th>\n",
       "      <th></th>\n",
       "      <th></th>\n",
       "      <th></th>\n",
       "      <th></th>\n",
       "      <th></th>\n",
       "      <th></th>\n",
       "    </tr>\n",
       "  </thead>\n",
       "  <tbody>\n",
       "    <tr>\n",
       "      <th>3</th>\n",
       "      <td>14</td>\n",
       "      <td>1167657550</td>\n",
       "      <td>1167657550</td>\n",
       "      <td>0</td>\n",
       "      <td>inf</td>\n",
       "      <td>248</td>\n",
       "    </tr>\n",
       "    <tr>\n",
       "      <th>5</th>\n",
       "      <td>11</td>\n",
       "      <td>1167658201</td>\n",
       "      <td>1167658201</td>\n",
       "      <td>0</td>\n",
       "      <td>inf</td>\n",
       "      <td>260</td>\n",
       "    </tr>\n",
       "    <tr>\n",
       "      <th>6</th>\n",
       "      <td>16</td>\n",
       "      <td>1167658404</td>\n",
       "      <td>1167658456</td>\n",
       "      <td>52</td>\n",
       "      <td>0.307692</td>\n",
       "      <td>203</td>\n",
       "    </tr>\n",
       "    <tr>\n",
       "      <th>8</th>\n",
       "      <td>42</td>\n",
       "      <td>1167659488</td>\n",
       "      <td>1167659772</td>\n",
       "      <td>284</td>\n",
       "      <td>0.147887</td>\n",
       "      <td>211</td>\n",
       "    </tr>\n",
       "    <tr>\n",
       "      <th>9</th>\n",
       "      <td>680</td>\n",
       "      <td>1167660001</td>\n",
       "      <td>1167665307</td>\n",
       "      <td>5306</td>\n",
       "      <td>0.128157</td>\n",
       "      <td>229</td>\n",
       "    </tr>\n",
       "  </tbody>\n",
       "</table>\n",
       "</div>"
      ],
      "text/plain": [
       "       # Entries  Start time    End time  Length  Density  Interarrival\n",
       "Tuple                                                                  \n",
       "3             14  1167657550  1167657550       0      inf           248\n",
       "5             11  1167658201  1167658201       0      inf           260\n",
       "6             16  1167658404  1167658456      52 0.307692           203\n",
       "8             42  1167659488  1167659772     284 0.147887           211\n",
       "9            680  1167660001  1167665307    5306 0.128157           229"
      ]
     },
     "execution_count": 36,
     "metadata": {},
     "output_type": "execute_result"
    }
   ],
   "source": [
    "df_trunc = df_sys_stat.loc[df_sys_stat['Interarrival'] <= q]\n",
    "df_trunc.head()"
   ]
  },
  {
   "cell_type": "code",
   "execution_count": 37,
   "metadata": {},
   "outputs": [
    {
     "name": "stdout",
     "output_type": "stream",
     "text": [
      "Estimate number of truncations: 51\n",
      "Estimate percentage of truncations: 10.039370078740157\n"
     ]
    }
   ],
   "source": [
    "num_trunc = df_trunc.shape[0]\n",
    "perc_trunc = (num_trunc/num_tuple)*100\n",
    "\n",
    "print('Estimate number of truncations:', num_trunc)\n",
    "print('Estimate percentage of truncations:', perc_trunc)"
   ]
  },
  {
   "cell_type": "code",
   "execution_count": 38,
   "metadata": {},
   "outputs": [
    {
     "data": {
      "text/html": [
       "<div>\n",
       "<style scoped>\n",
       "    .dataframe tbody tr th:only-of-type {\n",
       "        vertical-align: middle;\n",
       "    }\n",
       "\n",
       "    .dataframe tbody tr th {\n",
       "        vertical-align: top;\n",
       "    }\n",
       "\n",
       "    .dataframe thead th {\n",
       "        text-align: right;\n",
       "    }\n",
       "</style>\n",
       "<table border=\"1\" class=\"dataframe\">\n",
       "  <thead>\n",
       "    <tr style=\"text-align: right;\">\n",
       "      <th></th>\n",
       "      <th></th>\n",
       "      <th>Timestamp</th>\n",
       "      <th>Subsystem</th>\n",
       "      <th>Message</th>\n",
       "      <th>Type</th>\n",
       "    </tr>\n",
       "    <tr>\n",
       "      <th>Tuple</th>\n",
       "      <th>Node</th>\n",
       "      <th></th>\n",
       "      <th></th>\n",
       "      <th></th>\n",
       "      <th></th>\n",
       "    </tr>\n",
       "  </thead>\n",
       "  <tbody>\n",
       "    <tr>\n",
       "      <th>505</th>\n",
       "      <th>tg-master</th>\n",
       "      <td>4</td>\n",
       "      <td>4</td>\n",
       "      <td>4</td>\n",
       "      <td>4</td>\n",
       "    </tr>\n",
       "    <tr>\n",
       "      <th rowspan=\"3\" valign=\"top\">506</th>\n",
       "      <th>tg-c128</th>\n",
       "      <td>2</td>\n",
       "      <td>2</td>\n",
       "      <td>2</td>\n",
       "      <td>2</td>\n",
       "    </tr>\n",
       "    <tr>\n",
       "      <th>tg-c196</th>\n",
       "      <td>2</td>\n",
       "      <td>2</td>\n",
       "      <td>2</td>\n",
       "      <td>2</td>\n",
       "    </tr>\n",
       "    <tr>\n",
       "      <th>tg-master</th>\n",
       "      <td>558</td>\n",
       "      <td>558</td>\n",
       "      <td>558</td>\n",
       "      <td>558</td>\n",
       "    </tr>\n",
       "    <tr>\n",
       "      <th>507</th>\n",
       "      <th>tg-c196</th>\n",
       "      <td>2</td>\n",
       "      <td>2</td>\n",
       "      <td>2</td>\n",
       "      <td>2</td>\n",
       "    </tr>\n",
       "  </tbody>\n",
       "</table>\n",
       "</div>"
      ],
      "text/plain": [
       "                 Timestamp  Subsystem  Message  Type\n",
       "Tuple Node                                          \n",
       "505   tg-master          4          4        4     4\n",
       "506   tg-c128            2          2        2     2\n",
       "      tg-c196            2          2        2     2\n",
       "      tg-master        558        558      558   558\n",
       "507   tg-c196            2          2        2     2"
      ]
     },
     "execution_count": 38,
     "metadata": {},
     "output_type": "execute_result"
    }
   ],
   "source": [
    "df_group = df_mercury.groupby(by=['Tuple','Node']).count()\n",
    "df_group.tail()"
   ]
  },
  {
   "cell_type": "code",
   "execution_count": 39,
   "metadata": {},
   "outputs": [],
   "source": [
    "df_group = df_group.reset_index(level = 1)"
   ]
  },
  {
   "cell_type": "code",
   "execution_count": 40,
   "metadata": {},
   "outputs": [],
   "source": [
    "collided = 0\n",
    "for tup in df_group.index.unique():\n",
    "    if df_group.loc[df_group.index == tup].shape[0] > 1:\n",
    "        collided = collided + 1\n"
   ]
  },
  {
   "cell_type": "code",
   "execution_count": 41,
   "metadata": {},
   "outputs": [
    {
     "name": "stdout",
     "output_type": "stream",
     "text": [
      "Estimate number of collisions: 47\n",
      "Estimate percentage of collisions:  9.251968503937007\n"
     ]
    }
   ],
   "source": [
    "perc_coll = (collided/num_tuple)*100\n",
    "\n",
    "print('Estimate number of collisions:', collided)\n",
    "print('Estimate percentage of collisions: ', perc_coll)\n"
   ]
  },
  {
   "cell_type": "code",
   "execution_count": 42,
   "metadata": {},
   "outputs": [
    {
     "data": {
      "image/png": "[encoded data removed]",
      "text/plain": [
       "<Figure size 864x432 with 2 Axes>"
      ]
     },
     "metadata": {
      "needs_background": "light"
     },
     "output_type": "display_data"
    },
    {
     "data": {
      "image/png": "[encoded data removed]",
      "text/plain": [
       "<Figure size 648x648 with 1 Axes>"
      ]
     },
     "metadata": {
      "needs_background": "light"
     },
     "output_type": "display_data"
    },
    {
     "name": "stdout",
     "output_type": "stream",
     "text": [
      "The best fitting distribution was Weibull_3P which had parameters [7.45281787e+03 5.13823532e-01 1.99999900e+02]\n"
     ]
    }
   ],
   "source": [
    "data = df_sys_stat['Interarrival'].dropna().to_numpy()\n",
    "\n",
    "results = Fit_Everything(failures=data, show_PP_plot = False, show_probability_plot = False, print_results = False, show_histogram_plot = True)\n",
    "print('The best fitting distribution was', results.best_distribution_name, 'which had parameters', results.best_distribution.parameters)"
   ]
  },
  {
   "cell_type": "code",
   "execution_count": 43,
   "metadata": {},
   "outputs": [
    {
     "data": {
      "text/html": [
       "<div>\n",
       "<style scoped>\n",
       "    .dataframe tbody tr th:only-of-type {\n",
       "        vertical-align: middle;\n",
       "    }\n",
       "\n",
       "    .dataframe tbody tr th {\n",
       "        vertical-align: top;\n",
       "    }\n",
       "\n",
       "    .dataframe thead th {\n",
       "        text-align: right;\n",
       "    }\n",
       "</style>\n",
       "<table border=\"1\" class=\"dataframe\">\n",
       "  <thead>\n",
       "    <tr style=\"text-align: right;\">\n",
       "      <th></th>\n",
       "      <th>Distribution</th>\n",
       "      <th>Alpha</th>\n",
       "      <th>Beta</th>\n",
       "      <th>Gamma</th>\n",
       "      <th>...</th>\n",
       "      <th>AICc</th>\n",
       "      <th>BIC</th>\n",
       "      <th>AD</th>\n",
       "      <th>optimizer</th>\n",
       "    </tr>\n",
       "  </thead>\n",
       "  <tbody>\n",
       "    <tr>\n",
       "      <th>0</th>\n",
       "      <td>Weibull_3P</td>\n",
       "      <td>7452.82</td>\n",
       "      <td>0.513824</td>\n",
       "      <td>200</td>\n",
       "      <td>...</td>\n",
       "      <td>10168.1</td>\n",
       "      <td>10180.7</td>\n",
       "      <td>0.85867</td>\n",
       "      <td>TNC</td>\n",
       "    </tr>\n",
       "    <tr>\n",
       "      <th>0</th>\n",
       "      <td>Gamma_3P</td>\n",
       "      <td>36946.4</td>\n",
       "      <td>0.375038</td>\n",
       "      <td>200</td>\n",
       "      <td>...</td>\n",
       "      <td>10180.8</td>\n",
       "      <td>10193.4</td>\n",
       "      <td>2.3973</td>\n",
       "      <td>TNC</td>\n",
       "    </tr>\n",
       "    <tr>\n",
       "      <th>0</th>\n",
       "      <td>Loglogistic_3P</td>\n",
       "      <td>3126.39</td>\n",
       "      <td>0.722743</td>\n",
       "      <td>200</td>\n",
       "      <td>...</td>\n",
       "      <td>10251.3</td>\n",
       "      <td>10263.9</td>\n",
       "      <td>4.79406</td>\n",
       "      <td>TNC</td>\n",
       "    </tr>\n",
       "    <tr>\n",
       "      <th>0</th>\n",
       "      <td>Lognormal_3P</td>\n",
       "      <td></td>\n",
       "      <td></td>\n",
       "      <td>195.965</td>\n",
       "      <td>...</td>\n",
       "      <td>10277.4</td>\n",
       "      <td>10290</td>\n",
       "      <td>5.65395</td>\n",
       "      <td>TNC</td>\n",
       "    </tr>\n",
       "    <tr>\n",
       "      <th>0</th>\n",
       "      <td>Lognormal_2P</td>\n",
       "      <td></td>\n",
       "      <td></td>\n",
       "      <td></td>\n",
       "      <td>...</td>\n",
       "      <td>10354</td>\n",
       "      <td>10362.5</td>\n",
       "      <td>4.02464</td>\n",
       "      <td>TNC</td>\n",
       "    </tr>\n",
       "    <tr>\n",
       "      <th>0</th>\n",
       "      <td>Weibull_Mixture</td>\n",
       "      <td></td>\n",
       "      <td></td>\n",
       "      <td></td>\n",
       "      <td>...</td>\n",
       "      <td>10353.5</td>\n",
       "      <td>10374.6</td>\n",
       "      <td>2.30023</td>\n",
       "      <td>TNC</td>\n",
       "    </tr>\n",
       "    <tr>\n",
       "      <th>0</th>\n",
       "      <td>Loglogistic_2P</td>\n",
       "      <td>3789.16</td>\n",
       "      <td>0.953596</td>\n",
       "      <td></td>\n",
       "      <td>...</td>\n",
       "      <td>10391.2</td>\n",
       "      <td>10399.7</td>\n",
       "      <td>4.80067</td>\n",
       "      <td>TNC</td>\n",
       "    </tr>\n",
       "    <tr>\n",
       "      <th>0</th>\n",
       "      <td>Weibull_2P</td>\n",
       "      <td>8962.69</td>\n",
       "      <td>0.608045</td>\n",
       "      <td></td>\n",
       "      <td>...</td>\n",
       "      <td>10403.9</td>\n",
       "      <td>10412.3</td>\n",
       "      <td>4.7201</td>\n",
       "      <td>TNC</td>\n",
       "    </tr>\n",
       "    <tr>\n",
       "      <th>0</th>\n",
       "      <td>Weibull_DS</td>\n",
       "      <td>8962.7</td>\n",
       "      <td>0.608045</td>\n",
       "      <td></td>\n",
       "      <td>...</td>\n",
       "      <td>10405.9</td>\n",
       "      <td>10418.5</td>\n",
       "      <td>4.7201</td>\n",
       "      <td>TNC</td>\n",
       "    </tr>\n",
       "    <tr>\n",
       "      <th>0</th>\n",
       "      <td>Weibull_CR</td>\n",
       "      <td></td>\n",
       "      <td></td>\n",
       "      <td></td>\n",
       "      <td>...</td>\n",
       "      <td>10407.9</td>\n",
       "      <td>10424.8</td>\n",
       "      <td>4.72012</td>\n",
       "      <td>TNC</td>\n",
       "    </tr>\n",
       "    <tr>\n",
       "      <th>0</th>\n",
       "      <td>Gamma_2P</td>\n",
       "      <td>29112.7</td>\n",
       "      <td>0.482817</td>\n",
       "      <td></td>\n",
       "      <td>...</td>\n",
       "      <td>10456.3</td>\n",
       "      <td>10464.7</td>\n",
       "      <td>10.1569</td>\n",
       "      <td>TNC</td>\n",
       "    </tr>\n",
       "    <tr>\n",
       "      <th>0</th>\n",
       "      <td>Exponential_2P</td>\n",
       "      <td></td>\n",
       "      <td></td>\n",
       "      <td>200</td>\n",
       "      <td>...</td>\n",
       "      <td>10688</td>\n",
       "      <td>10696.5</td>\n",
       "      <td>120.868</td>\n",
       "      <td>TNC</td>\n",
       "    </tr>\n",
       "    <tr>\n",
       "      <th>0</th>\n",
       "      <td>Exponential_1P</td>\n",
       "      <td></td>\n",
       "      <td></td>\n",
       "      <td></td>\n",
       "      <td>...</td>\n",
       "      <td>10700.5</td>\n",
       "      <td>10704.8</td>\n",
       "      <td>93.7613</td>\n",
       "      <td>L-BFGS-B</td>\n",
       "    </tr>\n",
       "    <tr>\n",
       "      <th>0</th>\n",
       "      <td>Normal_2P</td>\n",
       "      <td></td>\n",
       "      <td></td>\n",
       "      <td></td>\n",
       "      <td>...</td>\n",
       "      <td>11850.8</td>\n",
       "      <td>11859.2</td>\n",
       "      <td>NaN</td>\n",
       "      <td>L-BFGS-B</td>\n",
       "    </tr>\n",
       "    <tr>\n",
       "      <th>0</th>\n",
       "      <td>Gumbel_2P</td>\n",
       "      <td></td>\n",
       "      <td></td>\n",
       "      <td></td>\n",
       "      <td>...</td>\n",
       "      <td>12549.5</td>\n",
       "      <td>12557.9</td>\n",
       "      <td>NaN</td>\n",
       "      <td>TNC</td>\n",
       "    </tr>\n",
       "  </tbody>\n",
       "</table>\n",
       "<p>15 rows × 18 columns</p>\n",
       "</div>"
      ],
      "text/plain": [
       "      Distribution   Alpha     Beta   Gamma  ...    AICc     BIC      AD optimizer\n",
       "0       Weibull_3P 7452.82 0.513824     200  ... 10168.1 10180.7 0.85867       TNC\n",
       "0         Gamma_3P 36946.4 0.375038     200  ... 10180.8 10193.4  2.3973       TNC\n",
       "0   Loglogistic_3P 3126.39 0.722743     200  ... 10251.3 10263.9 4.79406       TNC\n",
       "0     Lognormal_3P                  195.965  ... 10277.4   10290 5.65395       TNC\n",
       "0     Lognormal_2P                           ...   10354 10362.5 4.02464       TNC\n",
       "0  Weibull_Mixture                           ... 10353.5 10374.6 2.30023       TNC\n",
       "0   Loglogistic_2P 3789.16 0.953596          ... 10391.2 10399.7 4.80067       TNC\n",
       "0       Weibull_2P 8962.69 0.608045          ... 10403.9 10412.3  4.7201       TNC\n",
       "0       Weibull_DS  8962.7 0.608045          ... 10405.9 10418.5  4.7201       TNC\n",
       "0       Weibull_CR                           ... 10407.9 10424.8 4.72012       TNC\n",
       "0         Gamma_2P 29112.7 0.482817          ... 10456.3 10464.7 10.1569       TNC\n",
       "0   Exponential_2P                      200  ...   10688 10696.5 120.868       TNC\n",
       "0   Exponential_1P                           ... 10700.5 10704.8 93.7613  L-BFGS-B\n",
       "0        Normal_2P                           ... 11850.8 11859.2     NaN  L-BFGS-B\n",
       "0        Gumbel_2P                           ... 12549.5 12557.9     NaN       TNC\n",
       "\n",
       "[15 rows x 18 columns]"
      ]
     },
     "execution_count": 43,
     "metadata": {},
     "output_type": "execute_result"
    }
   ],
   "source": [
    "results.results"
   ]
  },
  {
   "cell_type": "code",
   "execution_count": 44,
   "metadata": {},
   "outputs": [
    {
     "data": {
      "text/plain": [
       "Index(['Distribution', 'Alpha', 'Beta', 'Gamma', 'Alpha 1', 'Beta 1', 'Alpha 2', 'Beta 2', 'Proportion 1', 'DS', 'Mu', 'Sigma', 'Lambda', 'Log-likelihood', 'AICc', 'BIC', 'AD', 'optimizer'], dtype='object')"
      ]
     },
     "execution_count": 44,
     "metadata": {},
     "output_type": "execute_result"
    }
   ],
   "source": [
    "results.results.columns"
   ]
  },
  {
   "cell_type": "code",
   "execution_count": 45,
   "metadata": {},
   "outputs": [
    {
     "data": {
      "text/plain": [
       "0    \n",
       "Name: Gamma, dtype: object"
      ]
     },
     "execution_count": 45,
     "metadata": {},
     "output_type": "execute_result"
    }
   ],
   "source": [
    "results.results.loc[results.results['Distribution']=='Lognormal_2P','Gamma']"
   ]
  },
  {
   "cell_type": "code",
   "execution_count": 46,
   "metadata": {},
   "outputs": [
    {
     "name": "stdout",
     "output_type": "stream",
     "text": [
      "\u001b[1m\u001b[23m\u001b[4m\u001b[49m\u001b[39mResults from Kolmogorov-Smirnov test:\u001b[0m\n",
      "Kolmogorov-Smirnov statistic: 0.09430579703522587\n",
      "Kolmogorov-Smirnov critical value: 0.05991765277635026\n",
      "At the 0.05 significance level, we can REJECT the hypothesis that the data comes from a Weibull Distribution (α=8962.6933,β=0.608)\n"
     ]
    },
    {
     "data": {
      "image/png": "[encoded data removed]",
      "text/plain": [
       "<Figure size 432x288 with 1 Axes>"
      ]
     },
     "metadata": {
      "needs_background": "light"
     },
     "output_type": "display_data"
    }
   ],
   "source": [
    "results.results = results.results.set_index('Distribution')\n",
    "alpha = results.results.loc['Weibull_2P','Alpha']\n",
    "beta = results.results.loc['Weibull_2P','Beta']\n",
    "\n",
    "\n",
    "dist = Weibull_Distribution(alpha=alpha, beta=beta)\n",
    "\n",
    "result = KStest(distribution = dist, data = df_sys_stat['Interarrival'].to_numpy(), significance = 0.05)\n"
   ]
  },
  {
   "cell_type": "code",
   "execution_count": 47,
   "metadata": {},
   "outputs": [
    {
     "name": "stdout",
     "output_type": "stream",
     "text": [
      "\u001b[1m\u001b[23m\u001b[4m\u001b[49m\u001b[39mResults from Kolmogorov-Smirnov test:\u001b[0m\n",
      "Kolmogorov-Smirnov statistic: 0.050320980528452464\n",
      "Kolmogorov-Smirnov critical value: 0.05991765277635026\n",
      "At the 0.05 significance level, we can ACCEPT the hypothesis that the data comes from a Weibull Distribution (α=7452.8179,β=0.5138,γ=199.9999)\n"
     ]
    },
    {
     "data": {
      "image/png": "[encoded data removed]",
      "text/plain": [
       "<Figure size 432x288 with 1 Axes>"
      ]
     },
     "metadata": {
      "needs_background": "light"
     },
     "output_type": "display_data"
    }
   ],
   "source": [
    "#results.results = results.results.set_index('Distribution')\n",
    "alpha = results.results.loc['Weibull_3P','Alpha']\n",
    "beta = results.results.loc['Weibull_3P','Beta']\n",
    "gamma = results.results.loc['Weibull_3P','Gamma']\n",
    "\n",
    "\n",
    "dist = Weibull_Distribution(alpha=alpha, beta=beta, gamma=gamma)\n",
    "\n",
    "result = KStest(distribution = dist, data = df_sys_stat['Interarrival'].to_numpy(), significance = 0.05)"
   ]
  },
  {
   "cell_type": "code",
   "execution_count": 92,
   "metadata": {},
   "outputs": [
    {
     "name": "stdout",
     "output_type": "stream",
     "text": [
      "\u001b[1m\u001b[23m\u001b[4m\u001b[49m\u001b[39mResults from Kolmogorov-Smirnov test:\u001b[0m\n",
      "Kolmogorov-Smirnov statistic: 0.07552082897799506\n",
      "Kolmogorov-Smirnov critical value: 0.05991765277635026\n",
      "At the 0.05 significance level, we can REJECT the hypothesis that the data comes from a Lognormal Distribution (μ=8.2281,σ=1.7509)\n"
     ]
    },
    {
     "data": {
      "image/png": "[encoded data removed]",
      "text/plain": [
       "<Figure size 432x288 with 1 Axes>"
      ]
     },
     "metadata": {
      "needs_background": "light"
     },
     "output_type": "display_data"
    }
   ],
   "source": [
    "Mu = results.results.loc['Lognormal_2P','Mu']\n",
    "Sigma = results.results.loc['Lognormal_2P','Sigma']\n",
    "\n",
    "dist1 = Lognormal_Distribution(mu=Mu, sigma=Sigma)\n",
    "\n",
    "result1 = KStest(distribution = dist1, data = df_sys_stat['Interarrival'].to_numpy(), significance = 0.05)"
   ]
  },
  {
   "cell_type": "code",
   "execution_count": 66,
   "metadata": {},
   "outputs": [],
   "source": [
    "l = df_sys_stat['Interarrival'].to_list()\n",
    "with open(r'inter.txt', 'w') as fp:\n",
    "    fp.write('\\n'.join(map(str, l)))\n",
    "\n"
   ]
  },
  {
   "cell_type": "code",
   "execution_count": 61,
   "metadata": {},
   "outputs": [
    {
     "name": "stdout",
     "output_type": "stream",
     "text": [
      "\u001b[1m\u001b[23m\u001b[4m\u001b[49m\u001b[39mResults from Kolmogorov-Smirnov test:\u001b[0m\n",
      "Kolmogorov-Smirnov statistic: 0.2780966933447634\n",
      "Kolmogorov-Smirnov critical value: 0.05991765277635026\n",
      "At the 0.05 significance level, we can REJECT the hypothesis that the data comes from a Exponential Distribution (λ=7.217e-05,γ=199.9999)\n"
     ]
    },
    {
     "data": {
      "text/plain": [
       "AndersonResult(statistic=nan, critical_values=array([0.921, 1.077, 1.339, 1.604, 1.955]), significance_level=array([15. , 10. ,  5. ,  2.5,  1. ]))"
      ]
     },
     "execution_count": 61,
     "metadata": {},
     "output_type": "execute_result"
    },
    {
     "data": {
      "image/png": "[encoded data removed]",
      "text/plain": [
       "<Figure size 432x288 with 1 Axes>"
      ]
     },
     "metadata": {
      "needs_background": "light"
     },
     "output_type": "display_data"
    }
   ],
   "source": [
    "Lambda = results.results.loc['Exponential_2P','Lambda']\n",
    "Gamma = results.results.loc['Exponential_2P','Gamma']\n",
    "\n",
    "dist2 = Exponential_Distribution(Lambda=Lambda, gamma=Gamma)\n",
    "\n",
    "result2 = KStest(distribution = dist2, data = df_sys_stat['Interarrival'].to_numpy(), significance = 0.05)\n",
    "\n",
    "scipy.stats.cramervonmises(df_sys_stat['Interarrival'].to_numpy(), dist2.CDF)\n",
    "scipy.stats.anderson(df_sys_stat['Interarrival'].to_numpy(), 'expon')\n"
   ]
  },
  {
   "cell_type": "code",
   "execution_count": 51,
   "metadata": {},
   "outputs": [
    {
     "ename": "TypeError",
     "evalue": "'Exponential_Distribution' object is not callable",
     "output_type": "error",
     "traceback": [
      "\u001b[1;31m---------------------------------------------------------------------------\u001b[0m",
      "\u001b[1;31mTypeError\u001b[0m                                 Traceback (most recent call last)",
      "\u001b[1;32m~\\AppData\\Local\\Temp/ipykernel_12380/1723721884.py\u001b[0m in \u001b[0;36m<module>\u001b[1;34m\u001b[0m\n\u001b[0;32m      3\u001b[0m \u001b[1;33m\u001b[0m\u001b[0m\n\u001b[0;32m      4\u001b[0m \u001b[0mdist2\u001b[0m \u001b[1;33m=\u001b[0m \u001b[0mExponential_Distribution\u001b[0m\u001b[1;33m(\u001b[0m\u001b[0mLambda\u001b[0m\u001b[1;33m=\u001b[0m\u001b[0mLambda\u001b[0m\u001b[1;33m,\u001b[0m \u001b[0mgamma\u001b[0m\u001b[1;33m=\u001b[0m\u001b[0mGamma\u001b[0m\u001b[1;33m)\u001b[0m\u001b[1;33m\u001b[0m\u001b[1;33m\u001b[0m\u001b[0m\n\u001b[1;32m----> 5\u001b[1;33m \u001b[0mscipy\u001b[0m\u001b[1;33m.\u001b[0m\u001b[0mstats\u001b[0m\u001b[1;33m.\u001b[0m\u001b[0mcramervonmises\u001b[0m\u001b[1;33m(\u001b[0m\u001b[0mdf_sys_stat\u001b[0m\u001b[1;33m[\u001b[0m\u001b[1;34m'Interarrival'\u001b[0m\u001b[1;33m]\u001b[0m\u001b[1;33m.\u001b[0m\u001b[0mto_numpy\u001b[0m\u001b[1;33m(\u001b[0m\u001b[1;33m)\u001b[0m\u001b[1;33m,\u001b[0m\u001b[0mdist2\u001b[0m\u001b[1;33m)\u001b[0m\u001b[1;33m\u001b[0m\u001b[1;33m\u001b[0m\u001b[0m\n\u001b[0m",
      "\u001b[1;32m~\\anaconda3\\lib\\site-packages\\scipy\\stats\\_hypotests.py\u001b[0m in \u001b[0;36mcramervonmises\u001b[1;34m(rvs, cdf, args)\u001b[0m\n\u001b[0;32m    369\u001b[0m \u001b[1;33m\u001b[0m\u001b[0m\n\u001b[0;32m    370\u001b[0m     \u001b[0mn\u001b[0m \u001b[1;33m=\u001b[0m \u001b[0mlen\u001b[0m\u001b[1;33m(\u001b[0m\u001b[0mvals\u001b[0m\u001b[1;33m)\u001b[0m\u001b[1;33m\u001b[0m\u001b[1;33m\u001b[0m\u001b[0m\n\u001b[1;32m--> 371\u001b[1;33m     \u001b[0mcdfvals\u001b[0m \u001b[1;33m=\u001b[0m \u001b[0mcdf\u001b[0m\u001b[1;33m(\u001b[0m\u001b[0mvals\u001b[0m\u001b[1;33m,\u001b[0m \u001b[1;33m*\u001b[0m\u001b[0margs\u001b[0m\u001b[1;33m)\u001b[0m\u001b[1;33m\u001b[0m\u001b[1;33m\u001b[0m\u001b[0m\n\u001b[0m\u001b[0;32m    372\u001b[0m \u001b[1;33m\u001b[0m\u001b[0m\n\u001b[0;32m    373\u001b[0m     \u001b[0mu\u001b[0m \u001b[1;33m=\u001b[0m \u001b[1;33m(\u001b[0m\u001b[1;36m2\u001b[0m\u001b[1;33m*\u001b[0m\u001b[0mnp\u001b[0m\u001b[1;33m.\u001b[0m\u001b[0marange\u001b[0m\u001b[1;33m(\u001b[0m\u001b[1;36m1\u001b[0m\u001b[1;33m,\u001b[0m \u001b[0mn\u001b[0m\u001b[1;33m+\u001b[0m\u001b[1;36m1\u001b[0m\u001b[1;33m)\u001b[0m \u001b[1;33m-\u001b[0m \u001b[1;36m1\u001b[0m\u001b[1;33m)\u001b[0m\u001b[1;33m/\u001b[0m\u001b[1;33m(\u001b[0m\u001b[1;36m2\u001b[0m\u001b[1;33m*\u001b[0m\u001b[0mn\u001b[0m\u001b[1;33m)\u001b[0m\u001b[1;33m\u001b[0m\u001b[1;33m\u001b[0m\u001b[0m\n",
      "\u001b[1;31mTypeError\u001b[0m: 'Exponential_Distribution' object is not callable"
     ]
    }
   ],
   "source": []
  },
  {
   "cell_type": "code",
   "execution_count": null,
   "metadata": {},
   "outputs": [],
   "source": []
  }
 ],
 "metadata": {
  "kernelspec": {
   "display_name": "Python 3 (ipykernel)",
   "language": "python",
   "name": "python3"
  },
  "language_info": {
   "codemirror_mode": {
    "name": "ipython",
    "version": 3
   },
   "file_extension": ".py",
   "mimetype": "text/x-python",
   "name": "python",
   "nbconvert_exporter": "python",
   "pygments_lexer": "ipython3",
   "version": "3.9.7"
  }
 },
 "nbformat": 4,
 "nbformat_minor": 4
}
