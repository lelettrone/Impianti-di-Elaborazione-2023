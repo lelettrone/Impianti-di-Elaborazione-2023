{
 "cells": [
  {
   "cell_type": "markdown",
   "metadata": {},
   "source": [
    "# Workload Characterization"
   ]
  },
  {
   "cell_type": "markdown",
   "metadata": {},
   "source": [
    "## 1. Introduction\n",
    "This notebook shows the characterization of a workload used to carry out performance analysis of a Linux system, aimed at discovering trends in resource usage.\n",
    "\n",
    "**Workload characterization** is the process of creating a **synthetic workload**, representative of the real one. In other words, we want to extract a statistical model of the real workload that represent his variability.\n",
    "\n",
    "The characterization is done through two different techniques: *principal component analyis* and *clustering*. "
   ]
  },
  {
   "cell_type": "markdown",
   "metadata": {},
   "source": [
    "### 1.1. Import relevant modules"
   ]
  },
  {
   "cell_type": "code",
   "execution_count": 1,
   "metadata": {},
   "outputs": [],
   "source": [
    "# Data Analysis\n",
    "import pandas as pd\n",
    "\n",
    "# Data Visualization\n",
    "from matplotlib import pyplot as plt\n",
    "\n",
    "# Machine Learning\n",
    "from sklearn.preprocessing import StandardScaler\n",
    "from sklearn.decomposition import PCA\n",
    "from sklearn.cluster import AgglomerativeClustering\n",
    "\n",
    "# Utilities\n",
    "import numpy as np\n",
    "import warnings"
   ]
  },
  {
   "cell_type": "code",
   "execution_count": 2,
   "metadata": {},
   "outputs": [],
   "source": [
    "%config InlineBackend.figure_format = 'retina'"
   ]
  },
  {
   "cell_type": "code",
   "execution_count": 3,
   "metadata": {},
   "outputs": [],
   "source": [
    "warnings.filterwarnings('ignore')"
   ]
  },
  {
   "cell_type": "markdown",
   "metadata": {},
   "source": [
    "### 1.2. Read the dataset"
   ]
  },
  {
   "cell_type": "code",
   "execution_count": 4,
   "metadata": {},
   "outputs": [
    {
     "data": {
      "text/html": [
       "<div>\n",
       "<style scoped>\n",
       "    .dataframe tbody tr th:only-of-type {\n",
       "        vertical-align: middle;\n",
       "    }\n",
       "\n",
       "    .dataframe tbody tr th {\n",
       "        vertical-align: top;\n",
       "    }\n",
       "\n",
       "    .dataframe thead th {\n",
       "        text-align: right;\n",
       "    }\n",
       "</style>\n",
       "<table border=\"1\" class=\"dataframe\">\n",
       "  <thead>\n",
       "    <tr style=\"text-align: right;\">\n",
       "      <th></th>\n",
       "      <th>r</th>\n",
       "      <th>b</th>\n",
       "      <th>swpd</th>\n",
       "      <th>free</th>\n",
       "      <th>buff</th>\n",
       "      <th>cache</th>\n",
       "      <th>si</th>\n",
       "      <th>so</th>\n",
       "      <th>bi</th>\n",
       "      <th>bo</th>\n",
       "      <th>in</th>\n",
       "      <th>cs</th>\n",
       "      <th>us</th>\n",
       "      <th>sy</th>\n",
       "      <th>id</th>\n",
       "      <th>wa</th>\n",
       "    </tr>\n",
       "  </thead>\n",
       "  <tbody>\n",
       "    <tr>\n",
       "      <th>0</th>\n",
       "      <td>0</td>\n",
       "      <td>0</td>\n",
       "      <td>355372</td>\n",
       "      <td>203880</td>\n",
       "      <td>15320</td>\n",
       "      <td>370892</td>\n",
       "      <td>216</td>\n",
       "      <td>957</td>\n",
       "      <td>4389</td>\n",
       "      <td>1090</td>\n",
       "      <td>616</td>\n",
       "      <td>2127</td>\n",
       "      <td>9</td>\n",
       "      <td>60</td>\n",
       "      <td>30</td>\n",
       "      <td>0</td>\n",
       "    </tr>\n",
       "    <tr>\n",
       "      <th>1</th>\n",
       "      <td>0</td>\n",
       "      <td>0</td>\n",
       "      <td>355372</td>\n",
       "      <td>203880</td>\n",
       "      <td>15320</td>\n",
       "      <td>370892</td>\n",
       "      <td>0</td>\n",
       "      <td>0</td>\n",
       "      <td>0</td>\n",
       "      <td>0</td>\n",
       "      <td>348</td>\n",
       "      <td>823</td>\n",
       "      <td>10</td>\n",
       "      <td>16</td>\n",
       "      <td>74</td>\n",
       "      <td>0</td>\n",
       "    </tr>\n",
       "    <tr>\n",
       "      <th>2</th>\n",
       "      <td>0</td>\n",
       "      <td>0</td>\n",
       "      <td>355372</td>\n",
       "      <td>203880</td>\n",
       "      <td>15320</td>\n",
       "      <td>370892</td>\n",
       "      <td>0</td>\n",
       "      <td>0</td>\n",
       "      <td>0</td>\n",
       "      <td>0</td>\n",
       "      <td>275</td>\n",
       "      <td>156</td>\n",
       "      <td>1</td>\n",
       "      <td>2</td>\n",
       "      <td>96</td>\n",
       "      <td>0</td>\n",
       "    </tr>\n",
       "    <tr>\n",
       "      <th>3</th>\n",
       "      <td>0</td>\n",
       "      <td>0</td>\n",
       "      <td>355372</td>\n",
       "      <td>203880</td>\n",
       "      <td>15320</td>\n",
       "      <td>370892</td>\n",
       "      <td>0</td>\n",
       "      <td>0</td>\n",
       "      <td>0</td>\n",
       "      <td>0</td>\n",
       "      <td>275</td>\n",
       "      <td>146</td>\n",
       "      <td>0</td>\n",
       "      <td>1</td>\n",
       "      <td>99</td>\n",
       "      <td>0</td>\n",
       "    </tr>\n",
       "    <tr>\n",
       "      <th>4</th>\n",
       "      <td>4</td>\n",
       "      <td>0</td>\n",
       "      <td>355372</td>\n",
       "      <td>203880</td>\n",
       "      <td>15320</td>\n",
       "      <td>370892</td>\n",
       "      <td>0</td>\n",
       "      <td>0</td>\n",
       "      <td>0</td>\n",
       "      <td>0</td>\n",
       "      <td>495</td>\n",
       "      <td>225</td>\n",
       "      <td>1</td>\n",
       "      <td>77</td>\n",
       "      <td>22</td>\n",
       "      <td>0</td>\n",
       "    </tr>\n",
       "  </tbody>\n",
       "</table>\n",
       "</div>"
      ],
      "text/plain": [
       "   r  b    swpd    free   buff   cache   si   so    bi    bo   in    cs  us  \\\n",
       "0  0  0  355372  203880  15320  370892  216  957  4389  1090  616  2127   9   \n",
       "1  0  0  355372  203880  15320  370892    0    0     0     0  348   823  10   \n",
       "2  0  0  355372  203880  15320  370892    0    0     0     0  275   156   1   \n",
       "3  0  0  355372  203880  15320  370892    0    0     0     0  275   146   0   \n",
       "4  4  0  355372  203880  15320  370892    0    0     0     0  495   225   1   \n",
       "\n",
       "   sy  id  wa   \n",
       "0  60  30    0  \n",
       "1  16  74    0  \n",
       "2   2  96    0  \n",
       "3   1  99    0  \n",
       "4  77  22    0  "
      ]
     },
     "execution_count": 4,
     "metadata": {},
     "output_type": "execute_result"
    }
   ],
   "source": [
    "df_rough = pd.read_csv('LL_raimondo.csv', sep = ';')\n",
    "#df_rough.astype(float)\n",
    "df_rough.head()\n",
    "# print(df_rough.head().to_latex())"
   ]
  },
  {
   "cell_type": "code",
   "execution_count": 5,
   "metadata": {},
   "outputs": [
    {
     "name": "stdout",
     "output_type": "stream",
     "text": [
      "The workload contains 16 components and 305 observations.\n"
     ]
    }
   ],
   "source": [
    "print('The workload contains {:d} components and {:d} observations.'.format(df_rough.shape[1], df_rough.shape[0]))"
   ]
  },
  {
   "cell_type": "markdown",
   "metadata": {},
   "source": [
    "### 2.2. Normalize the components\n",
    "Lastly, we standardize workload components so that they have mean and variance respectively equal to 0 and 1."
   ]
  },
  {
   "cell_type": "code",
   "execution_count": 6,
   "metadata": {},
   "outputs": [
    {
     "data": {
      "text/html": [
       "<div>\n",
       "<style scoped>\n",
       "    .dataframe tbody tr th:only-of-type {\n",
       "        vertical-align: middle;\n",
       "    }\n",
       "\n",
       "    .dataframe tbody tr th {\n",
       "        vertical-align: top;\n",
       "    }\n",
       "\n",
       "    .dataframe thead th {\n",
       "        text-align: right;\n",
       "    }\n",
       "</style>\n",
       "<table border=\"1\" class=\"dataframe\">\n",
       "  <thead>\n",
       "    <tr style=\"text-align: right;\">\n",
       "      <th></th>\n",
       "      <th>r</th>\n",
       "      <th>b</th>\n",
       "      <th>swpd</th>\n",
       "      <th>free</th>\n",
       "      <th>buff</th>\n",
       "      <th>cache</th>\n",
       "      <th>si</th>\n",
       "      <th>so</th>\n",
       "      <th>bi</th>\n",
       "      <th>bo</th>\n",
       "      <th>in</th>\n",
       "      <th>cs</th>\n",
       "      <th>us</th>\n",
       "      <th>sy</th>\n",
       "      <th>id</th>\n",
       "      <th>wa</th>\n",
       "    </tr>\n",
       "  </thead>\n",
       "  <tbody>\n",
       "    <tr>\n",
       "      <th>0</th>\n",
       "      <td>-0.970034</td>\n",
       "      <td>-0.129099</td>\n",
       "      <td>1.787175</td>\n",
       "      <td>1.059695</td>\n",
       "      <td>-1.541975</td>\n",
       "      <td>-1.321085</td>\n",
       "      <td>10.937933</td>\n",
       "      <td>17.435596</td>\n",
       "      <td>5.087844</td>\n",
       "      <td>12.962854</td>\n",
       "      <td>0.444593</td>\n",
       "      <td>9.280346</td>\n",
       "      <td>3.656962</td>\n",
       "      <td>-1.274613</td>\n",
       "      <td>0.925410</td>\n",
       "      <td>-0.081244</td>\n",
       "    </tr>\n",
       "    <tr>\n",
       "      <th>1</th>\n",
       "      <td>-0.970034</td>\n",
       "      <td>-0.129099</td>\n",
       "      <td>1.787175</td>\n",
       "      <td>1.059695</td>\n",
       "      <td>-1.541975</td>\n",
       "      <td>-1.321085</td>\n",
       "      <td>-0.161060</td>\n",
       "      <td>-0.057354</td>\n",
       "      <td>-0.125005</td>\n",
       "      <td>-0.152676</td>\n",
       "      <td>-0.407083</td>\n",
       "      <td>2.471213</td>\n",
       "      <td>4.187839</td>\n",
       "      <td>-3.315820</td>\n",
       "      <td>2.997663</td>\n",
       "      <td>-0.081244</td>\n",
       "    </tr>\n",
       "    <tr>\n",
       "      <th>2</th>\n",
       "      <td>-0.970034</td>\n",
       "      <td>-0.129099</td>\n",
       "      <td>1.787175</td>\n",
       "      <td>1.059695</td>\n",
       "      <td>-1.541975</td>\n",
       "      <td>-1.321085</td>\n",
       "      <td>-0.161060</td>\n",
       "      <td>-0.057354</td>\n",
       "      <td>-0.125005</td>\n",
       "      <td>-0.152676</td>\n",
       "      <td>-0.639070</td>\n",
       "      <td>-1.011680</td>\n",
       "      <td>-0.590057</td>\n",
       "      <td>-3.965294</td>\n",
       "      <td>4.033789</td>\n",
       "      <td>-0.081244</td>\n",
       "    </tr>\n",
       "    <tr>\n",
       "      <th>3</th>\n",
       "      <td>-0.970034</td>\n",
       "      <td>-0.129099</td>\n",
       "      <td>1.787175</td>\n",
       "      <td>1.059695</td>\n",
       "      <td>-1.541975</td>\n",
       "      <td>-1.321085</td>\n",
       "      <td>-0.161060</td>\n",
       "      <td>-0.057354</td>\n",
       "      <td>-0.125005</td>\n",
       "      <td>-0.152676</td>\n",
       "      <td>-0.639070</td>\n",
       "      <td>-1.063897</td>\n",
       "      <td>-1.120934</td>\n",
       "      <td>-4.011685</td>\n",
       "      <td>4.175079</td>\n",
       "      <td>-0.081244</td>\n",
       "    </tr>\n",
       "    <tr>\n",
       "      <th>4</th>\n",
       "      <td>-0.138966</td>\n",
       "      <td>-0.129099</td>\n",
       "      <td>1.787175</td>\n",
       "      <td>1.059695</td>\n",
       "      <td>-1.541975</td>\n",
       "      <td>-1.321085</td>\n",
       "      <td>-0.161060</td>\n",
       "      <td>-0.057354</td>\n",
       "      <td>-0.125005</td>\n",
       "      <td>-0.152676</td>\n",
       "      <td>0.060067</td>\n",
       "      <td>-0.651381</td>\n",
       "      <td>-0.590057</td>\n",
       "      <td>-0.485965</td>\n",
       "      <td>0.548637</td>\n",
       "      <td>-0.081244</td>\n",
       "    </tr>\n",
       "  </tbody>\n",
       "</table>\n",
       "</div>"
      ],
      "text/plain": [
       "          r         b      swpd      free      buff     cache         si  \\\n",
       "0 -0.970034 -0.129099  1.787175  1.059695 -1.541975 -1.321085  10.937933   \n",
       "1 -0.970034 -0.129099  1.787175  1.059695 -1.541975 -1.321085  -0.161060   \n",
       "2 -0.970034 -0.129099  1.787175  1.059695 -1.541975 -1.321085  -0.161060   \n",
       "3 -0.970034 -0.129099  1.787175  1.059695 -1.541975 -1.321085  -0.161060   \n",
       "4 -0.138966 -0.129099  1.787175  1.059695 -1.541975 -1.321085  -0.161060   \n",
       "\n",
       "          so        bi         bo        in        cs        us        sy  \\\n",
       "0  17.435596  5.087844  12.962854  0.444593  9.280346  3.656962 -1.274613   \n",
       "1  -0.057354 -0.125005  -0.152676 -0.407083  2.471213  4.187839 -3.315820   \n",
       "2  -0.057354 -0.125005  -0.152676 -0.639070 -1.011680 -0.590057 -3.965294   \n",
       "3  -0.057354 -0.125005  -0.152676 -0.639070 -1.063897 -1.120934 -4.011685   \n",
       "4  -0.057354 -0.125005  -0.152676  0.060067 -0.651381 -0.590057 -0.485965   \n",
       "\n",
       "         id       wa   \n",
       "0  0.925410 -0.081244  \n",
       "1  2.997663 -0.081244  \n",
       "2  4.033789 -0.081244  \n",
       "3  4.175079 -0.081244  \n",
       "4  0.548637 -0.081244  "
      ]
     },
     "execution_count": 6,
     "metadata": {},
     "output_type": "execute_result"
    }
   ],
   "source": [
    "x = df_rough.values\n",
    "\n",
    "x_scaled = StandardScaler().fit_transform(x)\n",
    "\n",
    "df_scaled = pd.DataFrame(data=x_scaled, columns=df_rough.columns )\n",
    "df_scaled = df_scaled.astype(float)\n",
    "df_scaled.head()\n",
    "#df_scaled.dtypes"
   ]
  },
  {
   "cell_type": "code",
   "execution_count": 7,
   "metadata": {
    "scrolled": true
   },
   "outputs": [
    {
     "data": {
      "text/html": [
       "<div>\n",
       "<style scoped>\n",
       "    .dataframe tbody tr th:only-of-type {\n",
       "        vertical-align: middle;\n",
       "    }\n",
       "\n",
       "    .dataframe tbody tr th {\n",
       "        vertical-align: top;\n",
       "    }\n",
       "\n",
       "    .dataframe thead th {\n",
       "        text-align: right;\n",
       "    }\n",
       "</style>\n",
       "<table border=\"1\" class=\"dataframe\">\n",
       "  <thead>\n",
       "    <tr style=\"text-align: right;\">\n",
       "      <th></th>\n",
       "      <th>Principale1</th>\n",
       "      <th>Principale2</th>\n",
       "      <th>Principale3</th>\n",
       "      <th>Principale4</th>\n",
       "      <th>Principale5</th>\n",
       "      <th>Principale6</th>\n",
       "      <th>Principale7</th>\n",
       "      <th>Principale8</th>\n",
       "      <th>Principale9</th>\n",
       "      <th>Principale10</th>\n",
       "    </tr>\n",
       "  </thead>\n",
       "  <tbody>\n",
       "    <tr>\n",
       "      <th>0</th>\n",
       "      <td>5.449818</td>\n",
       "      <td>25.824625</td>\n",
       "      <td>1.726655</td>\n",
       "      <td>-1.972047</td>\n",
       "      <td>0.210016</td>\n",
       "      <td>-2.312368</td>\n",
       "      <td>-1.729676</td>\n",
       "      <td>1.578032</td>\n",
       "      <td>-0.556199</td>\n",
       "      <td>-1.792968</td>\n",
       "    </tr>\n",
       "    <tr>\n",
       "      <th>1</th>\n",
       "      <td>4.962553</td>\n",
       "      <td>1.164982</td>\n",
       "      <td>1.471181</td>\n",
       "      <td>-2.193485</td>\n",
       "      <td>-0.219916</td>\n",
       "      <td>1.477957</td>\n",
       "      <td>2.947507</td>\n",
       "      <td>-2.364746</td>\n",
       "      <td>1.188535</td>\n",
       "      <td>0.429269</td>\n",
       "    </tr>\n",
       "    <tr>\n",
       "      <th>2</th>\n",
       "      <td>5.025424</td>\n",
       "      <td>-1.423277</td>\n",
       "      <td>3.140288</td>\n",
       "      <td>-1.572152</td>\n",
       "      <td>0.580288</td>\n",
       "      <td>-0.008309</td>\n",
       "      <td>-0.122201</td>\n",
       "      <td>1.142396</td>\n",
       "      <td>0.296047</td>\n",
       "      <td>-0.552254</td>\n",
       "    </tr>\n",
       "    <tr>\n",
       "      <th>3</th>\n",
       "      <td>5.023473</td>\n",
       "      <td>-1.564044</td>\n",
       "      <td>3.294675</td>\n",
       "      <td>-1.496402</td>\n",
       "      <td>0.711909</td>\n",
       "      <td>-0.197656</td>\n",
       "      <td>-0.476333</td>\n",
       "      <td>1.371159</td>\n",
       "      <td>0.344980</td>\n",
       "      <td>-0.586089</td>\n",
       "    </tr>\n",
       "    <tr>\n",
       "      <th>4</th>\n",
       "      <td>2.760811</td>\n",
       "      <td>-0.777958</td>\n",
       "      <td>-0.557803</td>\n",
       "      <td>0.492108</td>\n",
       "      <td>0.164496</td>\n",
       "      <td>-0.393703</td>\n",
       "      <td>-0.445748</td>\n",
       "      <td>0.542956</td>\n",
       "      <td>-0.095091</td>\n",
       "      <td>-0.225927</td>\n",
       "    </tr>\n",
       "  </tbody>\n",
       "</table>\n",
       "</div>"
      ],
      "text/plain": [
       "   Principale1  Principale2  Principale3  Principale4  Principale5  \\\n",
       "0     5.449818    25.824625     1.726655    -1.972047     0.210016   \n",
       "1     4.962553     1.164982     1.471181    -2.193485    -0.219916   \n",
       "2     5.025424    -1.423277     3.140288    -1.572152     0.580288   \n",
       "3     5.023473    -1.564044     3.294675    -1.496402     0.711909   \n",
       "4     2.760811    -0.777958    -0.557803     0.492108     0.164496   \n",
       "\n",
       "   Principale6  Principale7  Principale8  Principale9  Principale10  \n",
       "0    -2.312368    -1.729676     1.578032    -0.556199     -1.792968  \n",
       "1     1.477957     2.947507    -2.364746     1.188535      0.429269  \n",
       "2    -0.008309    -0.122201     1.142396     0.296047     -0.552254  \n",
       "3    -0.197656    -0.476333     1.371159     0.344980     -0.586089  \n",
       "4    -0.393703    -0.445748     0.542956    -0.095091     -0.225927  "
      ]
     },
     "execution_count": 7,
     "metadata": {},
     "output_type": "execute_result"
    }
   ],
   "source": [
    "df_princ_comp = pd.read_csv('LL_pca.csv', sep = ';', decimal=\",\")\n",
    "df_princ_comp = df_princ_comp.astype(float)\n",
    "df_princ_comp.head()"
   ]
  },
  {
   "cell_type": "code",
   "execution_count": 8,
   "metadata": {},
   "outputs": [
    {
     "name": "stdout",
     "output_type": "stream",
     "text": [
      "Devianza totale 4622.875783450541\n"
     ]
    }
   ],
   "source": [
    "# TEST per verificare che tutte le componenti ottenute forniscano un contributo non nullo alla devianza totale\n",
    "dev_tot = df_princ_comp.pow(2).sum().sum()\n",
    "print('Devianza totale', dev_tot)"
   ]
  },
  {
   "cell_type": "markdown",
   "metadata": {},
   "source": [
    "## 4. Clustering \n",
    "After reducing the workload dimensionality (number of columns), we want too reduce his dimension too (number of rows). \n",
    "A way to do this is by using **clustering**, which is the process of grouping a set of items in such a way that items in the same group are more similar to each other than to those in other groups.\n",
    "Once found groups of items, also called **clusters**, we can build a new workload that will contain one item for each cluster.\n",
    "\n",
    "Among the different clustering techniques, we choose an agglomerative approach called **Ward's method**, which is an hierarchical clustering method that minimize *intra-cluster deviance*. By minimizing the intra-cluster deviance we are also minimizing the *intra-cluster variance*, that is the variance that we lost applying the clustering process.\n",
    "\n",
    "Basically, Ward's method builds clusters iteratively by merging at each iteration the two closest cluster. Distance between two clusters $P$ and $Q$ is measured through a metric called *Ward distance*, defined as:<br>\n",
    "<center>$d(P,Q) = 2 \\frac{|P||Q|}{|P|+|Q|} ||\\overline x_P- \\overline x_Q||^2$</center>  \n",
    "\n",
    "where $|Q|$ is the cardinality of cluster $Q$ and $\\overline x_Q$ is his  *centroid*, defined as:<br>\n",
    "<center>$\\overline x_Q = \\frac{1}{|Q|} \\sum_{i=1}^{|Q|}x_i$</center>\n",
    "\n",
    "where $x_i$ is the i-th point of cluster $Q$."
   ]
  },
  {
   "cell_type": "markdown",
   "metadata": {},
   "source": [
    "### 4.1. Select principal components\n",
    "First of all let's define the data we want to cluster. As said before, we can consider only the first few principal components. Let's consider the firts three components, which explain the 84% of the dataset variance."
   ]
  },
  {
   "cell_type": "code",
   "execution_count": 9,
   "metadata": {},
   "outputs": [
    {
     "data": {
      "text/html": [
       "<div>\n",
       "<style scoped>\n",
       "    .dataframe tbody tr th:only-of-type {\n",
       "        vertical-align: middle;\n",
       "    }\n",
       "\n",
       "    .dataframe tbody tr th {\n",
       "        vertical-align: top;\n",
       "    }\n",
       "\n",
       "    .dataframe thead th {\n",
       "        text-align: right;\n",
       "    }\n",
       "</style>\n",
       "<table border=\"1\" class=\"dataframe\">\n",
       "  <thead>\n",
       "    <tr style=\"text-align: right;\">\n",
       "      <th></th>\n",
       "      <th>Principale1</th>\n",
       "      <th>Principale2</th>\n",
       "      <th>Principale3</th>\n",
       "      <th>Principale4</th>\n",
       "      <th>Principale5</th>\n",
       "      <th>Principale6</th>\n",
       "      <th>Principale7</th>\n",
       "      <th>Principale8</th>\n",
       "      <th>Principale9</th>\n",
       "      <th>Principale10</th>\n",
       "    </tr>\n",
       "  </thead>\n",
       "  <tbody>\n",
       "    <tr>\n",
       "      <th>0</th>\n",
       "      <td>5.449818</td>\n",
       "      <td>25.824625</td>\n",
       "      <td>1.726655</td>\n",
       "      <td>-1.972047</td>\n",
       "      <td>0.210016</td>\n",
       "      <td>-2.312368</td>\n",
       "      <td>-1.729676</td>\n",
       "      <td>1.578032</td>\n",
       "      <td>-0.556199</td>\n",
       "      <td>-1.792968</td>\n",
       "    </tr>\n",
       "    <tr>\n",
       "      <th>1</th>\n",
       "      <td>4.962553</td>\n",
       "      <td>1.164982</td>\n",
       "      <td>1.471181</td>\n",
       "      <td>-2.193485</td>\n",
       "      <td>-0.219916</td>\n",
       "      <td>1.477957</td>\n",
       "      <td>2.947507</td>\n",
       "      <td>-2.364746</td>\n",
       "      <td>1.188535</td>\n",
       "      <td>0.429269</td>\n",
       "    </tr>\n",
       "    <tr>\n",
       "      <th>2</th>\n",
       "      <td>5.025424</td>\n",
       "      <td>-1.423277</td>\n",
       "      <td>3.140288</td>\n",
       "      <td>-1.572152</td>\n",
       "      <td>0.580288</td>\n",
       "      <td>-0.008309</td>\n",
       "      <td>-0.122201</td>\n",
       "      <td>1.142396</td>\n",
       "      <td>0.296047</td>\n",
       "      <td>-0.552254</td>\n",
       "    </tr>\n",
       "    <tr>\n",
       "      <th>3</th>\n",
       "      <td>5.023473</td>\n",
       "      <td>-1.564044</td>\n",
       "      <td>3.294675</td>\n",
       "      <td>-1.496402</td>\n",
       "      <td>0.711909</td>\n",
       "      <td>-0.197656</td>\n",
       "      <td>-0.476333</td>\n",
       "      <td>1.371159</td>\n",
       "      <td>0.344980</td>\n",
       "      <td>-0.586089</td>\n",
       "    </tr>\n",
       "    <tr>\n",
       "      <th>4</th>\n",
       "      <td>2.760811</td>\n",
       "      <td>-0.777958</td>\n",
       "      <td>-0.557803</td>\n",
       "      <td>0.492108</td>\n",
       "      <td>0.164496</td>\n",
       "      <td>-0.393703</td>\n",
       "      <td>-0.445748</td>\n",
       "      <td>0.542956</td>\n",
       "      <td>-0.095091</td>\n",
       "      <td>-0.225927</td>\n",
       "    </tr>\n",
       "  </tbody>\n",
       "</table>\n",
       "</div>"
      ],
      "text/plain": [
       "   Principale1  Principale2  Principale3  Principale4  Principale5  \\\n",
       "0     5.449818    25.824625     1.726655    -1.972047     0.210016   \n",
       "1     4.962553     1.164982     1.471181    -2.193485    -0.219916   \n",
       "2     5.025424    -1.423277     3.140288    -1.572152     0.580288   \n",
       "3     5.023473    -1.564044     3.294675    -1.496402     0.711909   \n",
       "4     2.760811    -0.777958    -0.557803     0.492108     0.164496   \n",
       "\n",
       "   Principale6  Principale7  Principale8  Principale9  Principale10  \n",
       "0    -2.312368    -1.729676     1.578032    -0.556199     -1.792968  \n",
       "1     1.477957     2.947507    -2.364746     1.188535      0.429269  \n",
       "2    -0.008309    -0.122201     1.142396     0.296047     -0.552254  \n",
       "3    -0.197656    -0.476333     1.371159     0.344980     -0.586089  \n",
       "4    -0.393703    -0.445748     0.542956    -0.095091     -0.225927  "
      ]
     },
     "execution_count": 9,
     "metadata": {},
     "output_type": "execute_result"
    }
   ],
   "source": [
    "n_comp = 10\n",
    "\n",
    "df_clustering = df_princ_comp.iloc[:,0:n_comp]\n",
    "df_clustering.head()"
   ]
  },
  {
   "cell_type": "markdown",
   "metadata": {},
   "source": [
    "Performing clustering after PCA has two decisive advantages:\n",
    "1. Clustering is applyed to a dataset with fewer components.\n",
    "2. It prevents errors in clustering, since components computed by PCA are uncorrelated."
   ]
  },
  {
   "cell_type": "markdown",
   "metadata": {},
   "source": [
    "### 4.2. Perform clustering\n",
    "For now, let's suppose we want to cluster our dataset in 10 groups. We can perform clustering using the model AgglomerativeClustering, provided by scikit-learn. By default, the distance metric used by the algorithm is Ward's distance."
   ]
  },
  {
   "cell_type": "code",
   "execution_count": 10,
   "metadata": {},
   "outputs": [
    {
     "name": "stdout",
     "output_type": "stream",
     "text": [
      "20\n"
     ]
    },
    {
     "data": {
      "text/html": [
       "<div>\n",
       "<style scoped>\n",
       "    .dataframe tbody tr th:only-of-type {\n",
       "        vertical-align: middle;\n",
       "    }\n",
       "\n",
       "    .dataframe tbody tr th {\n",
       "        vertical-align: top;\n",
       "    }\n",
       "\n",
       "    .dataframe thead th {\n",
       "        text-align: right;\n",
       "    }\n",
       "</style>\n",
       "<table border=\"1\" class=\"dataframe\">\n",
       "  <thead>\n",
       "    <tr style=\"text-align: right;\">\n",
       "      <th></th>\n",
       "      <th>r</th>\n",
       "      <th>b</th>\n",
       "      <th>swpd</th>\n",
       "      <th>free</th>\n",
       "      <th>buff</th>\n",
       "      <th>cache</th>\n",
       "      <th>si</th>\n",
       "      <th>so</th>\n",
       "      <th>bi</th>\n",
       "      <th>bo</th>\n",
       "      <th>in</th>\n",
       "      <th>cs</th>\n",
       "      <th>us</th>\n",
       "      <th>sy</th>\n",
       "      <th>id</th>\n",
       "      <th>wa</th>\n",
       "      <th>cluster</th>\n",
       "    </tr>\n",
       "  </thead>\n",
       "  <tbody>\n",
       "    <tr>\n",
       "      <th>0</th>\n",
       "      <td>0</td>\n",
       "      <td>0</td>\n",
       "      <td>355372</td>\n",
       "      <td>203880</td>\n",
       "      <td>15320</td>\n",
       "      <td>370892</td>\n",
       "      <td>216</td>\n",
       "      <td>957</td>\n",
       "      <td>4389</td>\n",
       "      <td>1090</td>\n",
       "      <td>616</td>\n",
       "      <td>2127</td>\n",
       "      <td>9</td>\n",
       "      <td>60</td>\n",
       "      <td>30</td>\n",
       "      <td>0</td>\n",
       "      <td>0</td>\n",
       "    </tr>\n",
       "    <tr>\n",
       "      <th>1</th>\n",
       "      <td>0</td>\n",
       "      <td>0</td>\n",
       "      <td>355372</td>\n",
       "      <td>203880</td>\n",
       "      <td>15320</td>\n",
       "      <td>370892</td>\n",
       "      <td>0</td>\n",
       "      <td>0</td>\n",
       "      <td>0</td>\n",
       "      <td>0</td>\n",
       "      <td>348</td>\n",
       "      <td>823</td>\n",
       "      <td>10</td>\n",
       "      <td>16</td>\n",
       "      <td>74</td>\n",
       "      <td>0</td>\n",
       "      <td>6</td>\n",
       "    </tr>\n",
       "    <tr>\n",
       "      <th>2</th>\n",
       "      <td>0</td>\n",
       "      <td>0</td>\n",
       "      <td>355372</td>\n",
       "      <td>203880</td>\n",
       "      <td>15320</td>\n",
       "      <td>370892</td>\n",
       "      <td>0</td>\n",
       "      <td>0</td>\n",
       "      <td>0</td>\n",
       "      <td>0</td>\n",
       "      <td>275</td>\n",
       "      <td>156</td>\n",
       "      <td>1</td>\n",
       "      <td>2</td>\n",
       "      <td>96</td>\n",
       "      <td>0</td>\n",
       "      <td>1</td>\n",
       "    </tr>\n",
       "    <tr>\n",
       "      <th>3</th>\n",
       "      <td>0</td>\n",
       "      <td>0</td>\n",
       "      <td>355372</td>\n",
       "      <td>203880</td>\n",
       "      <td>15320</td>\n",
       "      <td>370892</td>\n",
       "      <td>0</td>\n",
       "      <td>0</td>\n",
       "      <td>0</td>\n",
       "      <td>0</td>\n",
       "      <td>275</td>\n",
       "      <td>146</td>\n",
       "      <td>0</td>\n",
       "      <td>1</td>\n",
       "      <td>99</td>\n",
       "      <td>0</td>\n",
       "      <td>1</td>\n",
       "    </tr>\n",
       "    <tr>\n",
       "      <th>4</th>\n",
       "      <td>4</td>\n",
       "      <td>0</td>\n",
       "      <td>355372</td>\n",
       "      <td>203880</td>\n",
       "      <td>15320</td>\n",
       "      <td>370892</td>\n",
       "      <td>0</td>\n",
       "      <td>0</td>\n",
       "      <td>0</td>\n",
       "      <td>0</td>\n",
       "      <td>495</td>\n",
       "      <td>225</td>\n",
       "      <td>1</td>\n",
       "      <td>77</td>\n",
       "      <td>22</td>\n",
       "      <td>0</td>\n",
       "      <td>8</td>\n",
       "    </tr>\n",
       "    <tr>\n",
       "      <th>...</th>\n",
       "      <td>...</td>\n",
       "      <td>...</td>\n",
       "      <td>...</td>\n",
       "      <td>...</td>\n",
       "      <td>...</td>\n",
       "      <td>...</td>\n",
       "      <td>...</td>\n",
       "      <td>...</td>\n",
       "      <td>...</td>\n",
       "      <td>...</td>\n",
       "      <td>...</td>\n",
       "      <td>...</td>\n",
       "      <td>...</td>\n",
       "      <td>...</td>\n",
       "      <td>...</td>\n",
       "      <td>...</td>\n",
       "      <td>...</td>\n",
       "    </tr>\n",
       "    <tr>\n",
       "      <th>300</th>\n",
       "      <td>6</td>\n",
       "      <td>0</td>\n",
       "      <td>354920</td>\n",
       "      <td>147888</td>\n",
       "      <td>15848</td>\n",
       "      <td>402008</td>\n",
       "      <td>0</td>\n",
       "      <td>0</td>\n",
       "      <td>0</td>\n",
       "      <td>12</td>\n",
       "      <td>275</td>\n",
       "      <td>368</td>\n",
       "      <td>1</td>\n",
       "      <td>99</td>\n",
       "      <td>0</td>\n",
       "      <td>0</td>\n",
       "      <td>14</td>\n",
       "    </tr>\n",
       "    <tr>\n",
       "      <th>301</th>\n",
       "      <td>1</td>\n",
       "      <td>0</td>\n",
       "      <td>354920</td>\n",
       "      <td>147888</td>\n",
       "      <td>15848</td>\n",
       "      <td>402012</td>\n",
       "      <td>0</td>\n",
       "      <td>0</td>\n",
       "      <td>0</td>\n",
       "      <td>0</td>\n",
       "      <td>286</td>\n",
       "      <td>360</td>\n",
       "      <td>2</td>\n",
       "      <td>98</td>\n",
       "      <td>0</td>\n",
       "      <td>0</td>\n",
       "      <td>14</td>\n",
       "    </tr>\n",
       "    <tr>\n",
       "      <th>302</th>\n",
       "      <td>7</td>\n",
       "      <td>0</td>\n",
       "      <td>354920</td>\n",
       "      <td>147888</td>\n",
       "      <td>15848</td>\n",
       "      <td>402012</td>\n",
       "      <td>0</td>\n",
       "      <td>0</td>\n",
       "      <td>0</td>\n",
       "      <td>0</td>\n",
       "      <td>291</td>\n",
       "      <td>404</td>\n",
       "      <td>1</td>\n",
       "      <td>99</td>\n",
       "      <td>0</td>\n",
       "      <td>0</td>\n",
       "      <td>14</td>\n",
       "    </tr>\n",
       "    <tr>\n",
       "      <th>303</th>\n",
       "      <td>7</td>\n",
       "      <td>0</td>\n",
       "      <td>354920</td>\n",
       "      <td>147888</td>\n",
       "      <td>15856</td>\n",
       "      <td>402012</td>\n",
       "      <td>0</td>\n",
       "      <td>0</td>\n",
       "      <td>0</td>\n",
       "      <td>24</td>\n",
       "      <td>278</td>\n",
       "      <td>378</td>\n",
       "      <td>1</td>\n",
       "      <td>99</td>\n",
       "      <td>0</td>\n",
       "      <td>0</td>\n",
       "      <td>14</td>\n",
       "    </tr>\n",
       "    <tr>\n",
       "      <th>304</th>\n",
       "      <td>3</td>\n",
       "      <td>0</td>\n",
       "      <td>354920</td>\n",
       "      <td>147888</td>\n",
       "      <td>15856</td>\n",
       "      <td>402012</td>\n",
       "      <td>0</td>\n",
       "      <td>0</td>\n",
       "      <td>0</td>\n",
       "      <td>0</td>\n",
       "      <td>291</td>\n",
       "      <td>323</td>\n",
       "      <td>2</td>\n",
       "      <td>98</td>\n",
       "      <td>0</td>\n",
       "      <td>0</td>\n",
       "      <td>14</td>\n",
       "    </tr>\n",
       "  </tbody>\n",
       "</table>\n",
       "<p>305 rows × 17 columns</p>\n",
       "</div>"
      ],
      "text/plain": [
       "     r  b    swpd    free   buff   cache   si   so    bi    bo   in    cs  us  \\\n",
       "0    0  0  355372  203880  15320  370892  216  957  4389  1090  616  2127   9   \n",
       "1    0  0  355372  203880  15320  370892    0    0     0     0  348   823  10   \n",
       "2    0  0  355372  203880  15320  370892    0    0     0     0  275   156   1   \n",
       "3    0  0  355372  203880  15320  370892    0    0     0     0  275   146   0   \n",
       "4    4  0  355372  203880  15320  370892    0    0     0     0  495   225   1   \n",
       "..  .. ..     ...     ...    ...     ...  ...  ...   ...   ...  ...   ...  ..   \n",
       "300  6  0  354920  147888  15848  402008    0    0     0    12  275   368   1   \n",
       "301  1  0  354920  147888  15848  402012    0    0     0     0  286   360   2   \n",
       "302  7  0  354920  147888  15848  402012    0    0     0     0  291   404   1   \n",
       "303  7  0  354920  147888  15856  402012    0    0     0    24  278   378   1   \n",
       "304  3  0  354920  147888  15856  402012    0    0     0     0  291   323   2   \n",
       "\n",
       "     sy  id  wa   cluster  \n",
       "0    60  30    0        0  \n",
       "1    16  74    0        6  \n",
       "2     2  96    0        1  \n",
       "3     1  99    0        1  \n",
       "4    77  22    0        8  \n",
       "..   ..  ..  ...      ...  \n",
       "300  99   0    0       14  \n",
       "301  98   0    0       14  \n",
       "302  99   0    0       14  \n",
       "303  99   0    0       14  \n",
       "304  98   0    0       14  \n",
       "\n",
       "[305 rows x 17 columns]"
      ]
     },
     "execution_count": 10,
     "metadata": {},
     "output_type": "execute_result"
    }
   ],
   "source": [
    "df_clus = pd.read_csv('LL_cluster.csv', sep = ';')\n",
    "df_clus.astype(int)\n",
    "df_clus.head()\n",
    "n_clusters = df_clus['Cluster'].max()\n",
    "df_clus['Cluster'] -= 1\n",
    "print(n_clusters)\n",
    "df_clustered = df_rough\n",
    "df_clustered.loc[:,'cluster'] = df_clus['Cluster']\n",
    "df_clustered\n"
   ]
  },
  {
   "cell_type": "markdown",
   "metadata": {},
   "source": [
    "## 5. Deviance\n",
    "As we already said, we want a synthetic workload to be representative of the real one, in term of variability of the data. For this reason, we need to observ how both techniques used in the characterization process affect the worload variance.\n",
    "\n",
    "Let's start by computing the total deviance of the workload."
   ]
  },
  {
   "cell_type": "code",
   "execution_count": 11,
   "metadata": {},
   "outputs": [
    {
     "data": {
      "text/plain": [
       "4880.0"
      ]
     },
     "execution_count": 11,
     "metadata": {},
     "output_type": "execute_result"
    }
   ],
   "source": [
    "dev_tot = df_scaled.sub(df_scaled.mean()).pow(2).sum().sum()\n",
    "dev_tot"
   ]
  },
  {
   "cell_type": "markdown",
   "metadata": {},
   "source": [
    "### 5.1. Deviance after PCA\n",
    "Now let's compute the deviance preserved by PCA."
   ]
  },
  {
   "cell_type": "code",
   "execution_count": 14,
   "metadata": {
    "scrolled": true
   },
   "outputs": [
    {
     "name": "stdout",
     "output_type": "stream",
     "text": [
      "     Principale1  Principale2  Principale3  Principale4  Principale5  \\\n",
      "0       7.128438    14.937301     9.463776     3.803223    -1.482101   \n",
      "1       2.191101     3.386964     3.307521     1.834737    -2.062922   \n",
      "2       0.836816     3.407830     2.935573     0.526316    -1.471354   \n",
      "3      -0.408389     5.250780     2.467732     1.085657    -1.697331   \n",
      "4       2.143690     2.159051     1.949318     1.674635    -1.919662   \n",
      "..           ...          ...          ...          ...          ...   \n",
      "300     4.450264    -0.265985    -2.878629     0.271073     0.845547   \n",
      "301     5.571863     0.057422    -4.547450    -0.098990     1.743804   \n",
      "302     5.749571     0.224054    -4.610839    -0.042537     1.835743   \n",
      "303     5.694403    -0.084663    -5.133150    -0.130215     2.099691   \n",
      "304     4.481734    -0.286952    -3.069665     0.119169     0.850072   \n",
      "\n",
      "     Principale6  Principale7  Principale8  Principale9  Principale10  \n",
      "0      -1.367571    -4.155226    -1.973137    -0.338776      0.012659  \n",
      "1      -2.277507     0.118141    -2.584707     0.340459     -2.298744  \n",
      "2      -1.196934    -3.888578    -2.799614     1.644104      0.103182  \n",
      "3       1.013278    -1.719517     4.100202    -3.295462      1.449740  \n",
      "4       0.376545    -0.726420     3.991782    -0.464295      0.261409  \n",
      "..           ...          ...          ...          ...           ...  \n",
      "300     0.006438    -1.224330    -0.262639     0.054857     -0.169759  \n",
      "301     0.295675    -1.548135    -0.512387     0.083801      0.116206  \n",
      "302     0.295019    -1.737467    -0.566934     0.094161      0.148602  \n",
      "303     0.426078    -1.376513    -0.152186    -0.009738      0.199972  \n",
      "304     0.027358    -1.156270    -0.243036     0.087920     -0.142097  \n",
      "\n",
      "[305 rows x 10 columns]\n"
     ]
    }
   ],
   "source": [
    "df_princ_comp = df_princ_comp.iloc[:,0:n_comp]\n",
    "print(df_princ_comp)\n",
    "dev_pca = df_princ_comp.sub(df_princ_comp.mean()).pow(2).sum().sum()\n"
   ]
  },
  {
   "cell_type": "code",
   "execution_count": 16,
   "metadata": {},
   "outputs": [
    {
     "name": "stdout",
     "output_type": "stream",
     "text": [
      "4579.847001632744\n"
     ]
    },
    {
     "data": {
      "text/plain": [
       "0.9384932380394967"
      ]
     },
     "execution_count": 16,
     "metadata": {},
     "output_type": "execute_result"
    }
   ],
   "source": [
    "print(dev_pca)\n",
    "dev_pca_ratio = dev_pca/dev_tot\n",
    "dev_pca_ratio"
   ]
  },
  {
   "cell_type": "markdown",
   "metadata": {},
   "source": [
    "As expected, considering just three of the principal components, we are including the 84% of the total deviance."
   ]
  },
  {
   "cell_type": "markdown",
   "metadata": {},
   "source": [
    "### 5.2. Deviance after clustering\n",
    "Now we can see how clustering affects deviance of data. First of all, total deviance of clustered data (deviance after PCA) can be written as:<br>\n",
    "<center>$d_{PCA} = d_{intra} + d_{inter}$</center>\n",
    "\n",
    "where $d_{intra}$ and $d_{inter}$ are called respectively *intra-cluster deviance* and *inter-cluster deviance*.\n",
    "Since we consider just one random point for each cluster, $d_{intra}$ is the amount of deviance lost form PCA deviance, whereas $d_{inter}$ it the amount of deviance preserved."
   ]
  },
  {
   "cell_type": "markdown",
   "metadata": {},
   "source": [
    "#### Intra-cluster deviance\n",
    "Intra-cluster deviance is the sum of the deviance of each cluster:<br>\n",
    "<center>$d_{intra} = \\sum_{k=1}^{K} \\sum_{i=1}^{n_k} ||x_i - \\overline x_k||$</center>\n",
    "\n",
    "where:\n",
    "- $K$ is the number of clusters\n",
    "- $n_k$ is the number of points of cluster $k$\n",
    "- $x_i$ is the $i$-th point of cluster $k$\n",
    "- $\\overline x_k$ is the centroid of cluster $k$"
   ]
  },
  {
   "cell_type": "code",
   "execution_count": 17,
   "metadata": {
    "scrolled": true
   },
   "outputs": [],
   "source": [
    "df_clustering.loc[:,'cluster'] = df_clus['Cluster']\n",
    "n_elem = df_clustering.groupby('cluster').count().values[:,0]\n",
    "centroids = df_clustering.groupby('cluster').mean()"
   ]
  },
  {
   "cell_type": "code",
   "execution_count": 18,
   "metadata": {},
   "outputs": [
    {
     "data": {
      "text/plain": [
       "506.3067660929429"
      ]
     },
     "execution_count": 18,
     "metadata": {},
     "output_type": "execute_result"
    }
   ],
   "source": [
    "arr = np.zeros(shape=(n_clusters,1))\n",
    "\n",
    "for i in range(n_clusters):\n",
    "    elem_i = df_clustering.loc[df_clustering['cluster'] == i].drop(columns='cluster')\n",
    "    arr[i] = elem_i.sub(centroids.loc[i,:]).pow(2).sum().sum()\n",
    "    \n",
    "dev_intra = arr.sum()\n",
    "dev_intra"
   ]
  },
  {
   "cell_type": "code",
   "execution_count": 19,
   "metadata": {},
   "outputs": [
    {
     "data": {
      "text/plain": [
       "0.11055102188183173"
      ]
     },
     "execution_count": 19,
     "metadata": {},
     "output_type": "execute_result"
    }
   ],
   "source": [
    "dev_intra_ratio = dev_intra/dev_pca\n",
    "dev_intra_ratio"
   ]
  },
  {
   "cell_type": "markdown",
   "metadata": {},
   "source": [
    "#### Inter-cluster deviance\n",
    "Inter-cluster deviance is defined as:<br>\n",
    "<center>$d_{inter} = \\sum_{k=1}^{K} n_k ||\\overline x_k - \\overline x||$</center>\n",
    "\n",
    "where:\n",
    "- $K$ is the number of clusters\n",
    "- $n_k$ is the number of points of cluster $k$\n",
    "- $\\overline x_k$ is the centroid of cluster $k$\n",
    "- $\\overline x_ = \\frac{1}{n} \\sum_{i=1}^{n} x_i$ is the mean of all data points."
   ]
  },
  {
   "cell_type": "code",
   "execution_count": 20,
   "metadata": {},
   "outputs": [
    {
     "data": {
      "text/plain": [
       "4073.540235539801"
      ]
     },
     "execution_count": 20,
     "metadata": {},
     "output_type": "execute_result"
    }
   ],
   "source": [
    "dev_inter = centroids.sub(df_clustering.mean()).pow(2).mul(n_elem, axis=0).sum().sum()\n",
    "dev_inter"
   ]
  },
  {
   "cell_type": "code",
   "execution_count": 21,
   "metadata": {},
   "outputs": [
    {
     "data": {
      "text/plain": [
       "0.8894489781181683"
      ]
     },
     "execution_count": 21,
     "metadata": {},
     "output_type": "execute_result"
    }
   ],
   "source": [
    "dev_inter_ratio = dev_inter/dev_pca\n",
    "dev_inter_ratio"
   ]
  },
  {
   "cell_type": "markdown",
   "metadata": {},
   "source": [
    "Before moving forward, let's check that the sum of intra and inter-cluster deviance is equal to the deviance preserved by PCA."
   ]
  },
  {
   "cell_type": "code",
   "execution_count": 22,
   "metadata": {},
   "outputs": [
    {
     "name": "stdout",
     "output_type": "stream",
     "text": [
      "dev_intra + dev_inter = 4579.847001632744\n",
      "dev_pca = 4579.847001632744\n"
     ]
    }
   ],
   "source": [
    "print('dev_intra + dev_inter = ' + str(dev_intra + dev_inter))\n",
    "print('dev_pca = ' + str(dev_pca))"
   ]
  },
  {
   "cell_type": "markdown",
   "metadata": {},
   "source": [
    "### 5.3. Loss of deviance\n",
    "Finally we can compute the total loss of deviance due to both PCA and clustering."
   ]
  },
  {
   "cell_type": "markdown",
   "metadata": {},
   "source": [
    "#### 1st approach \n",
    "Deviance lost can be seen as the sum of deviance lost because of PCA and deviance lost because of clustering (intra-cluster deviance), which is relative to deviance preserved by PCA."
   ]
  },
  {
   "cell_type": "code",
   "execution_count": 23,
   "metadata": {},
   "outputs": [
    {
     "data": {
      "text/plain": [
       "0.16525814845495884"
      ]
     },
     "execution_count": 23,
     "metadata": {},
     "output_type": "execute_result"
    }
   ],
   "source": [
    "dev_lost_ratio = (1-dev_pca_ratio) + dev_intra_ratio * dev_pca_ratio\n",
    "dev_lost_ratio"
   ]
  },
  {
   "cell_type": "markdown",
   "metadata": {},
   "source": [
    "#### 2nd approach\n",
    "Deviance lost can be seen as total deviance minus total deviance preserved, which is the product of deviance preserved by PCA and deviance preserved by clustering (inter-cluster deviance)."
   ]
  },
  {
   "cell_type": "code",
   "execution_count": 24,
   "metadata": {},
   "outputs": [
    {
     "data": {
      "text/plain": [
       "0.1652581484549588"
      ]
     },
     "execution_count": 24,
     "metadata": {},
     "output_type": "execute_result"
    }
   ],
   "source": [
    "dev_lost_ratio = 1 - dev_inter_ratio * dev_pca_ratio\n",
    "dev_lost_ratio"
   ]
  },
  {
   "cell_type": "markdown",
   "metadata": {},
   "source": [
    "## 6. Trade-off\n",
    "On one hand the dimension reduction of the workload depends on the number of clusters. On the other hand the loss of deviance caused by PCA and clustering depends not only on the cluster's number but also on the number of principal components. For this reason, we need to find the number of clusters and components that ensure the best trade-off between deviance lost and dimension reduction."
   ]
  },
  {
   "cell_type": "markdown",
   "metadata": {},
   "source": [
    "### 6.1. Deviance lost\n",
    "To see how deviance changes depending on those parameters, we execute all the steps shown in the previous sections for different numbers of principal components and clusters. We vary component's number from 3 (84% of explained variance) to 6 (95% of explained variance) and cluster's number from 1 to 20."
   ]
  },
  {
   "cell_type": "code",
   "execution_count": 25,
   "metadata": {},
   "outputs": [],
   "source": [
    "nmin_comp = 5\n",
    "nmax_comp = 10\n",
    "n_comp = nmax_comp-nmin_comp+1\n",
    "\n",
    "nmax_cluster = 25\n",
    "\n",
    "array_dev_lost = np.zeros(shape=(nmax_cluster,n_comp))\n",
    "\n",
    "for i in range(nmin_comp,nmax_comp+1):\n",
    "    for j in range(1,nmax_cluster+1):\n",
    "        \n",
    "        df_clustering = df_princ_comp.iloc[:,0:i]\n",
    "            \n",
    "        # clustering\n",
    "        clustering = AgglomerativeClustering(n_clusters=j)\n",
    "        clustering = clustering.fit(df_clustering.values)\n",
    "        df_clustering.insert(len(df_clustering.columns), 'cluster', clustering.labels_)\n",
    "\n",
    "        # deviance PCA\n",
    "        df_pca = df_princ_comp.iloc[:,0:i]\n",
    "        dev_pca = df_pca.sub(df_pca.mean()).pow(2).sum().sum()\n",
    "\n",
    "        # deviance clustering \n",
    "        n_elem = df_clustering.groupby('cluster').count().values[:,0]\n",
    "        centroids = df_clustering.groupby('cluster').mean()\n",
    "\n",
    "        # intra-cluster deviance\n",
    "        arr = np.zeros(shape=(j,1))\n",
    "        for k in range(j):\n",
    "            elem_k = df_clustering.loc[df_clustering['cluster'] == k].drop(columns='cluster')\n",
    "            arr[k] = elem_k.sub(centroids.loc[k,:]).pow(2).sum().sum()\n",
    "        dev_intra = arr.sum()\n",
    "\n",
    "        # inter-cluster deviance\n",
    "        dev_inter = centroids.sub(df_clustering.mean()).pow(2).mul(n_elem, axis=0).sum().sum()\n",
    "        dev_inter\n",
    "\n",
    "        # deviance lost\n",
    "        dev_pca_ratio = dev_pca/dev_tot\n",
    "        dev_inter_ratio = dev_inter/dev_pca\n",
    "        dev_lost = 1 - dev_inter_ratio * dev_pca_ratio\n",
    "\n",
    "        array_dev_lost[j-1][i-n_comp+1] = dev_lost\n",
    "                \n",
    "# array_dev_lost"
   ]
  },
  {
   "cell_type": "markdown",
   "metadata": {},
   "source": [
    "Now we can see how the deviance changes depending on number of clusters, for different numbers of principal components."
   ]
  },
  {
   "cell_type": "code",
   "execution_count": 26,
   "metadata": {},
   "outputs": [
    {
     "data": {
      "image/png": "[encoded data removed]",
      "text/plain": [
       "<Figure size 504x360 with 1 Axes>"
      ]
     },
     "metadata": {
      "image/png": {
       "height": 331,
       "width": 454
      },
      "needs_background": "light"
     },
     "output_type": "display_data"
    }
   ],
   "source": [
    "x = np.arange(1,nmax_cluster+1)\n",
    "\n",
    "plt.figure(figsize=(7,5))\n",
    "\n",
    "for i in range(nmin_comp,nmax_comp+1):\n",
    "    y_dev_lost = array_dev_lost[:,i-n_comp+1]\n",
    "    plt.plot(x, y_dev_lost)\n",
    "    \n",
    "c = [str(s) for s in range(nmin_comp,nmax_comp+1)]\n",
    "c = [s + ' comp' for s in c]\n",
    "    \n",
    "plt.title('Deviance lost')\n",
    "plt.ylabel('Deviance lost ratio')\n",
    "plt.xlabel('Number of clusters')\n",
    "plt.xticks(range(nmax_cluster+1))\n",
    "plt.yticks(np.linspace(0,y_dev_lost.max(),20))\n",
    "plt.grid(color='k', linestyle='-', linewidth=0.1)\n",
    "plt.legend(c)\n",
    "plt.savefig(\"varpersaLL_sint.svg\", format = \"svg\")\n",
    "plt.show()\n"
   ]
  },
  {
   "cell_type": "markdown",
   "metadata": {},
   "source": [
    "As we can see, the deviance lost decreases with the rise of clusters number, regardless of the number of principal components. It is reasonable since increasing the number of clusters we are considering more data points.\n",
    "Anyway, the deviance lost doesn't decrease linearly, as the curve settles down once reached 6 clusters.\n",
    "\n",
    "Moreover, if the number of clusters is smaller than 6, the deviance lost does not depend too much on principal compontens number. On the contrary, if clusters are 6 or more than 6, it decreases as the number of components grows. For istance, with 6 clusters, the difference between choosing 3 or 6 compontents is 5%, in term of deviance lost."
   ]
  },
  {
   "cell_type": "markdown",
   "metadata": {},
   "source": [
    "### 6.2. Dimension reduction\n",
    "Dimension reduction of workload can be measure looking at the ratio between number of values (number of columns times number of rows) of the synthetic workload and number of values of the real one. As we already said, reduction depends only on the number of clusters, as the synthetic workload dimension increase linearly with the number of clusters."
   ]
  },
  {
   "cell_type": "code",
   "execution_count": 27,
   "metadata": {},
   "outputs": [
    {
     "data": {
      "text/plain": [
       "array([0.00327869, 0.00655738, 0.00983607, 0.01311475, 0.01639344,\n",
       "       0.01967213, 0.02295082, 0.02622951, 0.0295082 , 0.03278689,\n",
       "       0.03606557, 0.03934426, 0.04262295, 0.04590164, 0.04918033,\n",
       "       0.05245902, 0.0557377 , 0.05901639, 0.06229508, 0.06557377,\n",
       "       0.06885246, 0.07213115, 0.07540984, 0.07868852, 0.08196721])"
      ]
     },
     "execution_count": 27,
     "metadata": {},
     "output_type": "execute_result"
    }
   ],
   "source": [
    "dim_synt = np.arange(1,nmax_cluster+1)*df_rough.shape[1]\n",
    "dim_real = df_rough.size\n",
    "\n",
    "array_dim = dim_synt/dim_real\n",
    "array_dim"
   ]
  },
  {
   "cell_type": "markdown",
   "metadata": {},
   "source": [
    "### 6.3. Deviance vs Dimension\n",
    "Ideally, we want both deviance lost and synthetic workload dimension to be as small as possible. The former decrease with the number of clusters (and principal components) but the latter increase with the same parameter. For this reason, we can consider the product of those quantities and look for the values of clusters and components that minimize this product."
   ]
  },
  {
   "cell_type": "code",
   "execution_count": 28,
   "metadata": {},
   "outputs": [
    {
     "data": {
      "image/png": "[encoded data removed]",
      "text/plain": [
       "<Figure size 504x360 with 1 Axes>"
      ]
     },
     "metadata": {
      "image/png": {
       "height": 331,
       "width": 454
      },
      "needs_background": "light"
     },
     "output_type": "display_data"
    }
   ],
   "source": [
    "x = np.arange(1,nmax_cluster+1)\n",
    "y_dim = array_dim\n",
    "\n",
    "plt.figure(figsize=(7,5))\n",
    "\n",
    "for i in range(nmin_comp,nmax_comp+1):\n",
    "    y_dev_lost = array_dev_lost[:,i-n_comp+1]\n",
    "    plt.plot(x, y_dim*y_dev_lost)\n",
    "\n",
    "c = [str(s) for s in range(nmin_comp,nmax_comp+1)]\n",
    "c = [s + ' comp' for s in c]\n",
    "    \n",
    "plt.title('Deviance lost vs dimension ratio')\n",
    "plt.ylabel('Deviance lost ratio * dimension ratio')\n",
    "plt.xlabel('Number of clusters')\n",
    "plt.xticks(range(nmax_cluster+1))\n",
    "plt.legend(c)\n",
    "plt.savefig(\"prod_var_dimLL_sint.svg\", format = \"svg\")\n",
    "plt.show()"
   ]
  },
  {
   "cell_type": "code",
   "execution_count": 29,
   "metadata": {},
   "outputs": [
    {
     "data": {
      "text/plain": [
       "array([[1.        , 1.        , 1.        , 1.        , 1.        ,\n",
       "        1.        ],\n",
       "       [0.86032074, 0.8736333 , 0.85938049, 0.85852999, 0.85842421,\n",
       "        0.85689634],\n",
       "       [0.74498643, 0.75881039, 0.74339126, 0.74246479, 0.74231796,\n",
       "        0.74074057],\n",
       "       [0.64232154, 0.65573076, 0.63839673, 0.63746912, 0.64387292,\n",
       "        0.63811899],\n",
       "       [0.56285876, 0.57643688, 0.54761678, 0.54638769, 0.55217644,\n",
       "        0.55058872],\n",
       "       [0.50587375, 0.51772049, 0.48933292, 0.48552351, 0.48759142,\n",
       "        0.48758705],\n",
       "       [0.46510559, 0.46086639, 0.43273613, 0.42797983, 0.42488734,\n",
       "        0.4280362 ],\n",
       "       [0.43088076, 0.41450957, 0.38385677, 0.37885277, 0.37532389,\n",
       "        0.385366  ],\n",
       "       [0.41377839, 0.37932252, 0.34682627, 0.34427609, 0.34077954,\n",
       "        0.34664144],\n",
       "       [0.40281726, 0.35642623, 0.31785308, 0.31607327, 0.30749985,\n",
       "        0.30869321],\n",
       "       [0.39225213, 0.34543197, 0.30626192, 0.29679217, 0.27426586,\n",
       "        0.27249648],\n",
       "       [0.38348636, 0.33651926, 0.29667721, 0.28538332, 0.2553551 ,\n",
       "        0.24154642],\n",
       "       [0.37633336, 0.32823897, 0.28778637, 0.2744611 , 0.24351606,\n",
       "        0.22512633],\n",
       "       [0.3692096 , 0.32087504, 0.2799287 , 0.26400526, 0.23421769,\n",
       "        0.20890357],\n",
       "       [0.36269603, 0.31457808, 0.27293183, 0.25509238, 0.22523616,\n",
       "        0.19862448],\n",
       "       [0.35682504, 0.3091562 , 0.26614701, 0.24683295, 0.21662561,\n",
       "        0.1895761 ],\n",
       "       [0.35161667, 0.30394337, 0.26061782, 0.23949131, 0.20906268,\n",
       "        0.18136981],\n",
       "       [0.34712683, 0.29880236, 0.25530276, 0.23217161, 0.20164352,\n",
       "        0.17394153],\n",
       "       [0.34378997, 0.29431223, 0.25027071, 0.22534826, 0.19469058,\n",
       "        0.16660116],\n",
       "       [0.34046625, 0.28990701, 0.24574385, 0.21853569, 0.18808008,\n",
       "        0.15944926],\n",
       "       [0.33803923, 0.28570964, 0.24122904, 0.21349218, 0.18185202,\n",
       "        0.15303137],\n",
       "       [0.33565166, 0.28189619, 0.23674204, 0.20886633, 0.1766266 ,\n",
       "        0.14726535],\n",
       "       [0.33330054, 0.27945589, 0.23333054, 0.20434809, 0.1716556 ,\n",
       "        0.14229428],\n",
       "       [0.33105481, 0.2770284 , 0.23045242, 0.200546  , 0.1670688 ,\n",
       "        0.13770702],\n",
       "       [0.32899566, 0.27460653, 0.22776909, 0.19675298, 0.16270798,\n",
       "        0.13333788]])"
      ]
     },
     "execution_count": 29,
     "metadata": {},
     "output_type": "execute_result"
    }
   ],
   "source": [
    "array_dev_lost"
   ]
  },
  {
   "cell_type": "markdown",
   "metadata": {},
   "source": [
    "Looking at the above plot, we can draw the following conclusions:\n",
    "- If we want the least number of principal components that preserve a good amount of deviance, we should choose 3 components and 5 clusters;\n",
    "- If we can affoard an higher number of principal components, we should choose 5 components and 6 clusters.\n",
    "\n",
    "Anyway, we want highlight that the number of principal components and clusters depend heavily on resources available for the characterization itself and the performance analysis."
   ]
  },
  {
   "cell_type": "code",
   "execution_count": null,
   "metadata": {},
   "outputs": [],
   "source": []
  },
  {
   "cell_type": "code",
   "execution_count": null,
   "metadata": {},
   "outputs": [],
   "source": []
  },
  {
   "cell_type": "code",
   "execution_count": null,
   "metadata": {},
   "outputs": [],
   "source": []
  },
  {
   "cell_type": "code",
   "execution_count": null,
   "metadata": {},
   "outputs": [],
   "source": []
  },
  {
   "cell_type": "code",
   "execution_count": null,
   "metadata": {},
   "outputs": [],
   "source": []
  },
  {
   "cell_type": "code",
   "execution_count": null,
   "metadata": {},
   "outputs": [],
   "source": []
  },
  {
   "cell_type": "code",
   "execution_count": null,
   "metadata": {},
   "outputs": [],
   "source": []
  },
  {
   "cell_type": "code",
   "execution_count": null,
   "metadata": {},
   "outputs": [],
   "source": []
  },
  {
   "cell_type": "code",
   "execution_count": null,
   "metadata": {},
   "outputs": [],
   "source": []
  },
  {
   "cell_type": "code",
   "execution_count": null,
   "metadata": {},
   "outputs": [],
   "source": []
  },
  {
   "cell_type": "code",
   "execution_count": null,
   "metadata": {},
   "outputs": [],
   "source": []
  }
 ],
 "metadata": {
  "kernelspec": {
   "display_name": "Python 3 (ipykernel)",
   "language": "python",
   "name": "python3"
  },
  "language_info": {
   "codemirror_mode": {
    "name": "ipython",
    "version": 3
   },
   "file_extension": ".py",
   "mimetype": "text/x-python",
   "name": "python",
   "nbconvert_exporter": "python",
   "pygments_lexer": "ipython3",
   "version": "3.9.7"
  },
  "toc": {
   "base_numbering": 1,
   "nav_menu": {},
   "number_sections": true,
   "sideBar": true,
   "skip_h1_title": false,
   "title_cell": "Table of Contents",
   "title_sidebar": "Contents",
   "toc_cell": false,
   "toc_position": {},
   "toc_section_display": true,
   "toc_window_display": true
  },
  "toc-autonumbering": false
 },
 "nbformat": 4,
 "nbformat_minor": 4
}
