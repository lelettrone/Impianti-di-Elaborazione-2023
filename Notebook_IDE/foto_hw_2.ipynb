{
 "cells": [
  {
   "cell_type": "markdown",
   "metadata": {},
   "source": [
    "# Workload Characterization"
   ]
  },
  {
   "cell_type": "markdown",
   "metadata": {},
   "source": [
    "## 1. Introduction\n",
    "This notebook shows the characterization of a workload used to carry out performance analysis of a Linux system, aimed at discovering trends in resource usage.\n",
    "\n",
    "**Workload characterization** is the process of creating a **synthetic workload**, representative of the real one. In other words, we want to extract a statistical model of the real workload that represent his variability.\n",
    "\n",
    "The characterization is done through two different techniques: *principal component analyis* and *clustering*. "
   ]
  },
  {
   "cell_type": "markdown",
   "metadata": {},
   "source": [
    "### 1.1. Import relevant modules"
   ]
  },
  {
   "cell_type": "code",
   "execution_count": 1,
   "metadata": {},
   "outputs": [],
   "source": [
    "# Data Analysis\n",
    "import pandas as pd\n",
    "\n",
    "# Data Visualization\n",
    "from matplotlib import pyplot as plt\n",
    "\n",
    "# Machine Learning\n",
    "from sklearn.preprocessing import StandardScaler\n",
    "from sklearn.decomposition import PCA\n",
    "from sklearn.cluster import AgglomerativeClustering\n",
    "\n",
    "# Utilities\n",
    "import numpy as np\n",
    "import warnings"
   ]
  },
  {
   "cell_type": "code",
   "execution_count": 2,
   "metadata": {},
   "outputs": [],
   "source": [
    "%config InlineBackend.figure_format = 'retina'"
   ]
  },
  {
   "cell_type": "code",
   "execution_count": 3,
   "metadata": {},
   "outputs": [],
   "source": [
    "warnings.filterwarnings('ignore')"
   ]
  },
  {
   "cell_type": "markdown",
   "metadata": {},
   "source": [
    "### 1.2. Read the dataset"
   ]
  },
  {
   "cell_type": "code",
   "execution_count": 4,
   "metadata": {},
   "outputs": [
    {
     "data": {
      "text/html": [
       "<div>\n",
       "<style scoped>\n",
       "    .dataframe tbody tr th:only-of-type {\n",
       "        vertical-align: middle;\n",
       "    }\n",
       "\n",
       "    .dataframe tbody tr th {\n",
       "        vertical-align: top;\n",
       "    }\n",
       "\n",
       "    .dataframe thead th {\n",
       "        text-align: right;\n",
       "    }\n",
       "</style>\n",
       "<table border=\"1\" class=\"dataframe\">\n",
       "  <thead>\n",
       "    <tr style=\"text-align: right;\">\n",
       "      <th></th>\n",
       "      <th>'VmPeak'</th>\n",
       "      <th>'VmSize'</th>\n",
       "      <th>'VmHWM'</th>\n",
       "      <th>'VmRSS'</th>\n",
       "      <th>'VmPTE'</th>\n",
       "      <th>'Threads'</th>\n",
       "      <th>'Buffers'</th>\n",
       "      <th>'Cached'</th>\n",
       "      <th>'Active'</th>\n",
       "      <th>'Inactive'</th>\n",
       "      <th>'Dirty'</th>\n",
       "      <th>'Writeback'</th>\n",
       "      <th>'Mapped'</th>\n",
       "      <th>'Slab'</th>\n",
       "      <th>'PageTables'</th>\n",
       "      <th>'Committed_AS'</th>\n",
       "      <th>'NumOfAllocFH'</th>\n",
       "      <th>'proc-fd'</th>\n",
       "      <th>'avgThroughput'</th>\n",
       "      <th>'avgElapsed'</th>\n",
       "    </tr>\n",
       "  </thead>\n",
       "  <tbody>\n",
       "    <tr>\n",
       "      <th>0</th>\n",
       "      <td>144012</td>\n",
       "      <td>126424</td>\n",
       "      <td>14224</td>\n",
       "      <td>14224</td>\n",
       "      <td>108</td>\n",
       "      <td>9</td>\n",
       "      <td>29064</td>\n",
       "      <td>334600</td>\n",
       "      <td>0</td>\n",
       "      <td>131152</td>\n",
       "      <td>300072</td>\n",
       "      <td>5621452</td>\n",
       "      <td>156</td>\n",
       "      <td>0</td>\n",
       "      <td>67408</td>\n",
       "      <td>22840</td>\n",
       "      <td>26160</td>\n",
       "      <td>6968</td>\n",
       "      <td>268820</td>\n",
       "      <td>510</td>\n",
       "    </tr>\n",
       "    <tr>\n",
       "      <th>1</th>\n",
       "      <td>152272</td>\n",
       "      <td>150216</td>\n",
       "      <td>24508</td>\n",
       "      <td>23708</td>\n",
       "      <td>160</td>\n",
       "      <td>9</td>\n",
       "      <td>29144</td>\n",
       "      <td>334640</td>\n",
       "      <td>0</td>\n",
       "      <td>139780</td>\n",
       "      <td>299928</td>\n",
       "      <td>5610188</td>\n",
       "      <td>40</td>\n",
       "      <td>0</td>\n",
       "      <td>76172</td>\n",
       "      <td>23700</td>\n",
       "      <td>27792</td>\n",
       "      <td>7192</td>\n",
       "      <td>293700</td>\n",
       "      <td>510</td>\n",
       "    </tr>\n",
       "    <tr>\n",
       "      <th>2</th>\n",
       "      <td>152272</td>\n",
       "      <td>150216</td>\n",
       "      <td>24628</td>\n",
       "      <td>24588</td>\n",
       "      <td>160</td>\n",
       "      <td>15</td>\n",
       "      <td>29240</td>\n",
       "      <td>334640</td>\n",
       "      <td>0</td>\n",
       "      <td>140764</td>\n",
       "      <td>300020</td>\n",
       "      <td>5609652</td>\n",
       "      <td>144</td>\n",
       "      <td>0</td>\n",
       "      <td>76608</td>\n",
       "      <td>23708</td>\n",
       "      <td>27996</td>\n",
       "      <td>7188</td>\n",
       "      <td>293336</td>\n",
       "      <td>510</td>\n",
       "    </tr>\n",
       "    <tr>\n",
       "      <th>3</th>\n",
       "      <td>152272</td>\n",
       "      <td>150216</td>\n",
       "      <td>24628</td>\n",
       "      <td>24500</td>\n",
       "      <td>160</td>\n",
       "      <td>35</td>\n",
       "      <td>29336</td>\n",
       "      <td>334640</td>\n",
       "      <td>0</td>\n",
       "      <td>140624</td>\n",
       "      <td>300116</td>\n",
       "      <td>5610232</td>\n",
       "      <td>176</td>\n",
       "      <td>0</td>\n",
       "      <td>76608</td>\n",
       "      <td>23708</td>\n",
       "      <td>27996</td>\n",
       "      <td>7196</td>\n",
       "      <td>293336</td>\n",
       "      <td>510</td>\n",
       "    </tr>\n",
       "    <tr>\n",
       "      <th>4</th>\n",
       "      <td>152272</td>\n",
       "      <td>150216</td>\n",
       "      <td>24628</td>\n",
       "      <td>24580</td>\n",
       "      <td>160</td>\n",
       "      <td>29</td>\n",
       "      <td>29432</td>\n",
       "      <td>334640</td>\n",
       "      <td>0</td>\n",
       "      <td>140704</td>\n",
       "      <td>300212</td>\n",
       "      <td>5610032</td>\n",
       "      <td>20</td>\n",
       "      <td>0</td>\n",
       "      <td>76792</td>\n",
       "      <td>23708</td>\n",
       "      <td>27948</td>\n",
       "      <td>7196</td>\n",
       "      <td>295484</td>\n",
       "      <td>1020</td>\n",
       "    </tr>\n",
       "  </tbody>\n",
       "</table>\n",
       "</div>"
      ],
      "text/plain": [
       "   'VmPeak'  'VmSize'  'VmHWM'  'VmRSS'  'VmPTE'  'Threads'  'Buffers'  \\\n",
       "0    144012    126424    14224    14224      108          9      29064   \n",
       "1    152272    150216    24508    23708      160          9      29144   \n",
       "2    152272    150216    24628    24588      160         15      29240   \n",
       "3    152272    150216    24628    24500      160         35      29336   \n",
       "4    152272    150216    24628    24580      160         29      29432   \n",
       "\n",
       "   'Cached'  'Active'  'Inactive'  'Dirty'  'Writeback'  'Mapped'  'Slab'  \\\n",
       "0    334600         0      131152   300072      5621452       156       0   \n",
       "1    334640         0      139780   299928      5610188        40       0   \n",
       "2    334640         0      140764   300020      5609652       144       0   \n",
       "3    334640         0      140624   300116      5610232       176       0   \n",
       "4    334640         0      140704   300212      5610032        20       0   \n",
       "\n",
       "   'PageTables'  'Committed_AS'  'NumOfAllocFH'  'proc-fd'  'avgThroughput'  \\\n",
       "0         67408           22840           26160       6968           268820   \n",
       "1         76172           23700           27792       7192           293700   \n",
       "2         76608           23708           27996       7188           293336   \n",
       "3         76608           23708           27996       7196           293336   \n",
       "4         76792           23708           27948       7196           295484   \n",
       "\n",
       "   'avgElapsed'  \n",
       "0           510  \n",
       "1           510  \n",
       "2           510  \n",
       "3           510  \n",
       "4          1020  "
      ]
     },
     "execution_count": 4,
     "metadata": {},
     "output_type": "execute_result"
    }
   ],
   "source": [
    "df_rough = pd.read_csv('dati.csv', sep = ';')\n",
    "#df_rough.astype(float)\n",
    "df_rough.head()\n",
    "# print(df_rough.head().to_latex())"
   ]
  },
  {
   "cell_type": "code",
   "execution_count": 5,
   "metadata": {},
   "outputs": [
    {
     "name": "stdout",
     "output_type": "stream",
     "text": [
      "The workload contains 20 components and 4995 observations.\n"
     ]
    }
   ],
   "source": [
    "print('The workload contains {:d} components and {:d} observations.'.format(df_rough.shape[1], df_rough.shape[0]))"
   ]
  },
  {
   "cell_type": "markdown",
   "metadata": {},
   "source": [
    "### 2.2. Normalize the components\n",
    "Lastly, we standardize workload components so that they have mean and variance respectively equal to 0 and 1."
   ]
  },
  {
   "cell_type": "code",
   "execution_count": 6,
   "metadata": {},
   "outputs": [
    {
     "data": {
      "text/html": [
       "<div>\n",
       "<style scoped>\n",
       "    .dataframe tbody tr th:only-of-type {\n",
       "        vertical-align: middle;\n",
       "    }\n",
       "\n",
       "    .dataframe tbody tr th {\n",
       "        vertical-align: top;\n",
       "    }\n",
       "\n",
       "    .dataframe thead th {\n",
       "        text-align: right;\n",
       "    }\n",
       "</style>\n",
       "<table border=\"1\" class=\"dataframe\">\n",
       "  <thead>\n",
       "    <tr style=\"text-align: right;\">\n",
       "      <th></th>\n",
       "      <th>'VmPeak'</th>\n",
       "      <th>'VmSize'</th>\n",
       "      <th>'VmHWM'</th>\n",
       "      <th>'VmRSS'</th>\n",
       "      <th>'VmPTE'</th>\n",
       "      <th>'Threads'</th>\n",
       "      <th>'Buffers'</th>\n",
       "      <th>'Cached'</th>\n",
       "      <th>'Active'</th>\n",
       "      <th>'Inactive'</th>\n",
       "      <th>'Dirty'</th>\n",
       "      <th>'Writeback'</th>\n",
       "      <th>'Mapped'</th>\n",
       "      <th>'Slab'</th>\n",
       "      <th>'PageTables'</th>\n",
       "      <th>'Committed_AS'</th>\n",
       "      <th>'NumOfAllocFH'</th>\n",
       "      <th>'proc-fd'</th>\n",
       "      <th>'avgThroughput'</th>\n",
       "      <th>'avgElapsed'</th>\n",
       "    </tr>\n",
       "  </thead>\n",
       "  <tbody>\n",
       "    <tr>\n",
       "      <th>0</th>\n",
       "      <td>-3.008715</td>\n",
       "      <td>-4.908577</td>\n",
       "      <td>-3.240135</td>\n",
       "      <td>-3.692720</td>\n",
       "      <td>-3.510719</td>\n",
       "      <td>-1.167428</td>\n",
       "      <td>-4.144409</td>\n",
       "      <td>-7.640640</td>\n",
       "      <td>-0.035239</td>\n",
       "      <td>-6.181577</td>\n",
       "      <td>-7.620798</td>\n",
       "      <td>7.526171</td>\n",
       "      <td>-0.051708</td>\n",
       "      <td>-0.014247</td>\n",
       "      <td>-3.406071</td>\n",
       "      <td>-4.993091</td>\n",
       "      <td>-7.759661</td>\n",
       "      <td>-4.296190</td>\n",
       "      <td>-5.439135</td>\n",
       "      <td>-1.899055</td>\n",
       "    </tr>\n",
       "    <tr>\n",
       "      <th>1</th>\n",
       "      <td>-2.313011</td>\n",
       "      <td>-2.556968</td>\n",
       "      <td>-1.789952</td>\n",
       "      <td>-1.974912</td>\n",
       "      <td>-1.873308</td>\n",
       "      <td>-1.167428</td>\n",
       "      <td>-4.142082</td>\n",
       "      <td>-7.640243</td>\n",
       "      <td>-0.035239</td>\n",
       "      <td>-6.015133</td>\n",
       "      <td>-7.622594</td>\n",
       "      <td>7.442775</td>\n",
       "      <td>-0.062367</td>\n",
       "      <td>-0.014247</td>\n",
       "      <td>-1.884180</td>\n",
       "      <td>-0.625681</td>\n",
       "      <td>-7.609034</td>\n",
       "      <td>-0.611946</td>\n",
       "      <td>-2.892177</td>\n",
       "      <td>-1.899055</td>\n",
       "    </tr>\n",
       "    <tr>\n",
       "      <th>2</th>\n",
       "      <td>-2.313011</td>\n",
       "      <td>-2.556968</td>\n",
       "      <td>-1.773030</td>\n",
       "      <td>-1.815520</td>\n",
       "      <td>-1.873308</td>\n",
       "      <td>-1.016503</td>\n",
       "      <td>-4.139289</td>\n",
       "      <td>-7.640243</td>\n",
       "      <td>-0.035239</td>\n",
       "      <td>-5.996151</td>\n",
       "      <td>-7.621447</td>\n",
       "      <td>7.438806</td>\n",
       "      <td>-0.052810</td>\n",
       "      <td>-0.014247</td>\n",
       "      <td>-1.808467</td>\n",
       "      <td>-0.585054</td>\n",
       "      <td>-7.590205</td>\n",
       "      <td>-0.677736</td>\n",
       "      <td>-2.929440</td>\n",
       "      <td>-1.899055</td>\n",
       "    </tr>\n",
       "    <tr>\n",
       "      <th>3</th>\n",
       "      <td>-2.313011</td>\n",
       "      <td>-2.556968</td>\n",
       "      <td>-1.773030</td>\n",
       "      <td>-1.831459</td>\n",
       "      <td>-1.873308</td>\n",
       "      <td>-0.513421</td>\n",
       "      <td>-4.136496</td>\n",
       "      <td>-7.640243</td>\n",
       "      <td>-0.035239</td>\n",
       "      <td>-5.998852</td>\n",
       "      <td>-7.620250</td>\n",
       "      <td>7.443101</td>\n",
       "      <td>-0.049870</td>\n",
       "      <td>-0.014247</td>\n",
       "      <td>-1.808467</td>\n",
       "      <td>-0.585054</td>\n",
       "      <td>-7.590205</td>\n",
       "      <td>-0.546156</td>\n",
       "      <td>-2.929440</td>\n",
       "      <td>-1.899055</td>\n",
       "    </tr>\n",
       "    <tr>\n",
       "      <th>4</th>\n",
       "      <td>-2.313011</td>\n",
       "      <td>-2.556968</td>\n",
       "      <td>-1.773030</td>\n",
       "      <td>-1.816969</td>\n",
       "      <td>-1.873308</td>\n",
       "      <td>-0.664345</td>\n",
       "      <td>-4.133703</td>\n",
       "      <td>-7.640243</td>\n",
       "      <td>-0.035239</td>\n",
       "      <td>-5.997308</td>\n",
       "      <td>-7.619053</td>\n",
       "      <td>7.441620</td>\n",
       "      <td>-0.064205</td>\n",
       "      <td>-0.014247</td>\n",
       "      <td>-1.776515</td>\n",
       "      <td>-0.585054</td>\n",
       "      <td>-7.594635</td>\n",
       "      <td>-0.546156</td>\n",
       "      <td>-2.709550</td>\n",
       "      <td>-0.458979</td>\n",
       "    </tr>\n",
       "  </tbody>\n",
       "</table>\n",
       "</div>"
      ],
      "text/plain": [
       "   'VmPeak'  'VmSize'   'VmHWM'   'VmRSS'   'VmPTE'  'Threads'  'Buffers'  \\\n",
       "0 -3.008715 -4.908577 -3.240135 -3.692720 -3.510719  -1.167428  -4.144409   \n",
       "1 -2.313011 -2.556968 -1.789952 -1.974912 -1.873308  -1.167428  -4.142082   \n",
       "2 -2.313011 -2.556968 -1.773030 -1.815520 -1.873308  -1.016503  -4.139289   \n",
       "3 -2.313011 -2.556968 -1.773030 -1.831459 -1.873308  -0.513421  -4.136496   \n",
       "4 -2.313011 -2.556968 -1.773030 -1.816969 -1.873308  -0.664345  -4.133703   \n",
       "\n",
       "   'Cached'  'Active'  'Inactive'   'Dirty'  'Writeback'  'Mapped'    'Slab'  \\\n",
       "0 -7.640640 -0.035239   -6.181577 -7.620798     7.526171 -0.051708 -0.014247   \n",
       "1 -7.640243 -0.035239   -6.015133 -7.622594     7.442775 -0.062367 -0.014247   \n",
       "2 -7.640243 -0.035239   -5.996151 -7.621447     7.438806 -0.052810 -0.014247   \n",
       "3 -7.640243 -0.035239   -5.998852 -7.620250     7.443101 -0.049870 -0.014247   \n",
       "4 -7.640243 -0.035239   -5.997308 -7.619053     7.441620 -0.064205 -0.014247   \n",
       "\n",
       "   'PageTables'  'Committed_AS'  'NumOfAllocFH'  'proc-fd'  'avgThroughput'  \\\n",
       "0     -3.406071       -4.993091       -7.759661  -4.296190        -5.439135   \n",
       "1     -1.884180       -0.625681       -7.609034  -0.611946        -2.892177   \n",
       "2     -1.808467       -0.585054       -7.590205  -0.677736        -2.929440   \n",
       "3     -1.808467       -0.585054       -7.590205  -0.546156        -2.929440   \n",
       "4     -1.776515       -0.585054       -7.594635  -0.546156        -2.709550   \n",
       "\n",
       "   'avgElapsed'  \n",
       "0     -1.899055  \n",
       "1     -1.899055  \n",
       "2     -1.899055  \n",
       "3     -1.899055  \n",
       "4     -0.458979  "
      ]
     },
     "execution_count": 6,
     "metadata": {},
     "output_type": "execute_result"
    }
   ],
   "source": [
    "x = df_rough.values\n",
    "\n",
    "x_scaled = StandardScaler().fit_transform(x)\n",
    "\n",
    "df_scaled = pd.DataFrame(data=x_scaled, columns=df_rough.columns )\n",
    "df_scaled = df_scaled.astype(float)\n",
    "df_scaled.head()\n",
    "#df_scaled.dtypes"
   ]
  },
  {
   "cell_type": "code",
   "execution_count": 7,
   "metadata": {
    "scrolled": true
   },
   "outputs": [
    {
     "data": {
      "text/html": [
       "<div>\n",
       "<style scoped>\n",
       "    .dataframe tbody tr th:only-of-type {\n",
       "        vertical-align: middle;\n",
       "    }\n",
       "\n",
       "    .dataframe tbody tr th {\n",
       "        vertical-align: top;\n",
       "    }\n",
       "\n",
       "    .dataframe thead th {\n",
       "        text-align: right;\n",
       "    }\n",
       "</style>\n",
       "<table border=\"1\" class=\"dataframe\">\n",
       "  <thead>\n",
       "    <tr style=\"text-align: right;\">\n",
       "      <th></th>\n",
       "      <th>Principale1</th>\n",
       "      <th>Principale2</th>\n",
       "      <th>Principale3</th>\n",
       "      <th>Principale4</th>\n",
       "      <th>Principale5</th>\n",
       "      <th>Principale6</th>\n",
       "      <th>Principale7</th>\n",
       "    </tr>\n",
       "  </thead>\n",
       "  <tbody>\n",
       "    <tr>\n",
       "      <th>0</th>\n",
       "      <td>-17.712506</td>\n",
       "      <td>8.276706</td>\n",
       "      <td>-6.073880</td>\n",
       "      <td>-0.151787</td>\n",
       "      <td>-3.609697</td>\n",
       "      <td>0.910962</td>\n",
       "      <td>-0.033210</td>\n",
       "    </tr>\n",
       "    <tr>\n",
       "      <th>1</th>\n",
       "      <td>-13.220506</td>\n",
       "      <td>11.477604</td>\n",
       "      <td>-3.296623</td>\n",
       "      <td>-0.131609</td>\n",
       "      <td>-2.088678</td>\n",
       "      <td>-0.269760</td>\n",
       "      <td>-0.653543</td>\n",
       "    </tr>\n",
       "    <tr>\n",
       "      <th>2</th>\n",
       "      <td>-13.127571</td>\n",
       "      <td>11.517033</td>\n",
       "      <td>-3.311583</td>\n",
       "      <td>-0.128026</td>\n",
       "      <td>-2.107410</td>\n",
       "      <td>-0.255147</td>\n",
       "      <td>-0.559213</td>\n",
       "    </tr>\n",
       "    <tr>\n",
       "      <th>3</th>\n",
       "      <td>-13.010236</td>\n",
       "      <td>11.616249</td>\n",
       "      <td>-3.312798</td>\n",
       "      <td>-0.115067</td>\n",
       "      <td>-2.226533</td>\n",
       "      <td>-0.352340</td>\n",
       "      <td>-0.203529</td>\n",
       "    </tr>\n",
       "    <tr>\n",
       "      <th>4</th>\n",
       "      <td>-13.157124</td>\n",
       "      <td>11.481500</td>\n",
       "      <td>-3.092469</td>\n",
       "      <td>-0.062941</td>\n",
       "      <td>-0.993723</td>\n",
       "      <td>0.108221</td>\n",
       "      <td>0.304298</td>\n",
       "    </tr>\n",
       "  </tbody>\n",
       "</table>\n",
       "</div>"
      ],
      "text/plain": [
       "   Principale1  Principale2  Principale3  Principale4  Principale5  \\\n",
       "0   -17.712506     8.276706    -6.073880    -0.151787    -3.609697   \n",
       "1   -13.220506    11.477604    -3.296623    -0.131609    -2.088678   \n",
       "2   -13.127571    11.517033    -3.311583    -0.128026    -2.107410   \n",
       "3   -13.010236    11.616249    -3.312798    -0.115067    -2.226533   \n",
       "4   -13.157124    11.481500    -3.092469    -0.062941    -0.993723   \n",
       "\n",
       "   Principale6  Principale7  \n",
       "0     0.910962    -0.033210  \n",
       "1    -0.269760    -0.653543  \n",
       "2    -0.255147    -0.559213  \n",
       "3    -0.352340    -0.203529  \n",
       "4     0.108221     0.304298  "
      ]
     },
     "execution_count": 7,
     "metadata": {},
     "output_type": "execute_result"
    }
   ],
   "source": [
    "df_princ_comp = pd.read_csv('pca_active.csv', sep = ';', decimal=\",\")\n",
    "df_princ_comp = df_princ_comp.astype(float)\n",
    "df_princ_comp.head()"
   ]
  },
  {
   "cell_type": "code",
   "execution_count": 8,
   "metadata": {},
   "outputs": [
    {
     "name": "stdout",
     "output_type": "stream",
     "text": [
      "Devianza totale 94396.81999606364\n"
     ]
    }
   ],
   "source": [
    "# TEST per verificare che tutte le componenti ottenute forniscano un contributo non nullo alla devianza totale\n",
    "dev_tot = df_princ_comp.pow(2).sum().sum()\n",
    "print('Devianza totale', dev_tot)"
   ]
  },
  {
   "cell_type": "markdown",
   "metadata": {},
   "source": [
    "## 4. Clustering \n",
    "After reducing the workload dimensionality (number of columns), we want too reduce his dimension too (number of rows). \n",
    "A way to do this is by using **clustering**, which is the process of grouping a set of items in such a way that items in the same group are more similar to each other than to those in other groups.\n",
    "Once found groups of items, also called **clusters**, we can build a new workload that will contain one item for each cluster.\n",
    "\n",
    "Among the different clustering techniques, we choose an agglomerative approach called **Ward's method**, which is an hierarchical clustering method that minimize *intra-cluster deviance*. By minimizing the intra-cluster deviance we are also minimizing the *intra-cluster variance*, that is the variance that we lost applying the clustering process.\n",
    "\n",
    "Basically, Ward's method builds clusters iteratively by merging at each iteration the two closest cluster. Distance between two clusters $P$ and $Q$ is measured through a metric called *Ward distance*, defined as:<br>\n",
    "<center>$d(P,Q) = 2 \\frac{|P||Q|}{|P|+|Q|} ||\\overline x_P- \\overline x_Q||^2$</center>  \n",
    "\n",
    "where $|Q|$ is the cardinality of cluster $Q$ and $\\overline x_Q$ is his  *centroid*, defined as:<br>\n",
    "<center>$\\overline x_Q = \\frac{1}{|Q|} \\sum_{i=1}^{|Q|}x_i$</center>\n",
    "\n",
    "where $x_i$ is the i-th point of cluster $Q$."
   ]
  },
  {
   "cell_type": "markdown",
   "metadata": {},
   "source": [
    "### 4.1. Select principal components\n",
    "First of all let's define the data we want to cluster. As said before, we can consider only the first few principal components. Let's consider the firts three components, which explain the 84% of the dataset variance."
   ]
  },
  {
   "cell_type": "code",
   "execution_count": 9,
   "metadata": {},
   "outputs": [
    {
     "data": {
      "text/html": [
       "<div>\n",
       "<style scoped>\n",
       "    .dataframe tbody tr th:only-of-type {\n",
       "        vertical-align: middle;\n",
       "    }\n",
       "\n",
       "    .dataframe tbody tr th {\n",
       "        vertical-align: top;\n",
       "    }\n",
       "\n",
       "    .dataframe thead th {\n",
       "        text-align: right;\n",
       "    }\n",
       "</style>\n",
       "<table border=\"1\" class=\"dataframe\">\n",
       "  <thead>\n",
       "    <tr style=\"text-align: right;\">\n",
       "      <th></th>\n",
       "      <th>Principale1</th>\n",
       "      <th>Principale2</th>\n",
       "      <th>Principale3</th>\n",
       "      <th>Principale4</th>\n",
       "      <th>Principale5</th>\n",
       "      <th>Principale6</th>\n",
       "      <th>Principale7</th>\n",
       "    </tr>\n",
       "  </thead>\n",
       "  <tbody>\n",
       "    <tr>\n",
       "      <th>0</th>\n",
       "      <td>-17.712506</td>\n",
       "      <td>8.276706</td>\n",
       "      <td>-6.073880</td>\n",
       "      <td>-0.151787</td>\n",
       "      <td>-3.609697</td>\n",
       "      <td>0.910962</td>\n",
       "      <td>-0.033210</td>\n",
       "    </tr>\n",
       "    <tr>\n",
       "      <th>1</th>\n",
       "      <td>-13.220506</td>\n",
       "      <td>11.477604</td>\n",
       "      <td>-3.296623</td>\n",
       "      <td>-0.131609</td>\n",
       "      <td>-2.088678</td>\n",
       "      <td>-0.269760</td>\n",
       "      <td>-0.653543</td>\n",
       "    </tr>\n",
       "    <tr>\n",
       "      <th>2</th>\n",
       "      <td>-13.127571</td>\n",
       "      <td>11.517033</td>\n",
       "      <td>-3.311583</td>\n",
       "      <td>-0.128026</td>\n",
       "      <td>-2.107410</td>\n",
       "      <td>-0.255147</td>\n",
       "      <td>-0.559213</td>\n",
       "    </tr>\n",
       "    <tr>\n",
       "      <th>3</th>\n",
       "      <td>-13.010236</td>\n",
       "      <td>11.616249</td>\n",
       "      <td>-3.312798</td>\n",
       "      <td>-0.115067</td>\n",
       "      <td>-2.226533</td>\n",
       "      <td>-0.352340</td>\n",
       "      <td>-0.203529</td>\n",
       "    </tr>\n",
       "    <tr>\n",
       "      <th>4</th>\n",
       "      <td>-13.157124</td>\n",
       "      <td>11.481500</td>\n",
       "      <td>-3.092469</td>\n",
       "      <td>-0.062941</td>\n",
       "      <td>-0.993723</td>\n",
       "      <td>0.108221</td>\n",
       "      <td>0.304298</td>\n",
       "    </tr>\n",
       "  </tbody>\n",
       "</table>\n",
       "</div>"
      ],
      "text/plain": [
       "   Principale1  Principale2  Principale3  Principale4  Principale5  \\\n",
       "0   -17.712506     8.276706    -6.073880    -0.151787    -3.609697   \n",
       "1   -13.220506    11.477604    -3.296623    -0.131609    -2.088678   \n",
       "2   -13.127571    11.517033    -3.311583    -0.128026    -2.107410   \n",
       "3   -13.010236    11.616249    -3.312798    -0.115067    -2.226533   \n",
       "4   -13.157124    11.481500    -3.092469    -0.062941    -0.993723   \n",
       "\n",
       "   Principale6  Principale7  \n",
       "0     0.910962    -0.033210  \n",
       "1    -0.269760    -0.653543  \n",
       "2    -0.255147    -0.559213  \n",
       "3    -0.352340    -0.203529  \n",
       "4     0.108221     0.304298  "
      ]
     },
     "execution_count": 9,
     "metadata": {},
     "output_type": "execute_result"
    }
   ],
   "source": [
    "n_comp = 7\n",
    "\n",
    "df_clustering = df_princ_comp.iloc[:,0:n_comp]\n",
    "df_clustering.head()"
   ]
  },
  {
   "cell_type": "markdown",
   "metadata": {},
   "source": [
    "Performing clustering after PCA has two decisive advantages:\n",
    "1. Clustering is applyed to a dataset with fewer components.\n",
    "2. It prevents errors in clustering, since components computed by PCA are uncorrelated."
   ]
  },
  {
   "cell_type": "markdown",
   "metadata": {},
   "source": [
    "### 4.2. Perform clustering\n",
    "For now, let's suppose we want to cluster our dataset in 10 groups. We can perform clustering using the model AgglomerativeClustering, provided by scikit-learn. By default, the distance metric used by the algorithm is Ward's distance."
   ]
  },
  {
   "cell_type": "code",
   "execution_count": 10,
   "metadata": {},
   "outputs": [
    {
     "name": "stdout",
     "output_type": "stream",
     "text": [
      "15\n"
     ]
    },
    {
     "data": {
      "text/html": [
       "<div>\n",
       "<style scoped>\n",
       "    .dataframe tbody tr th:only-of-type {\n",
       "        vertical-align: middle;\n",
       "    }\n",
       "\n",
       "    .dataframe tbody tr th {\n",
       "        vertical-align: top;\n",
       "    }\n",
       "\n",
       "    .dataframe thead th {\n",
       "        text-align: right;\n",
       "    }\n",
       "</style>\n",
       "<table border=\"1\" class=\"dataframe\">\n",
       "  <thead>\n",
       "    <tr style=\"text-align: right;\">\n",
       "      <th></th>\n",
       "      <th>'VmPeak'</th>\n",
       "      <th>'VmSize'</th>\n",
       "      <th>'VmHWM'</th>\n",
       "      <th>'VmRSS'</th>\n",
       "      <th>'VmPTE'</th>\n",
       "      <th>'Threads'</th>\n",
       "      <th>'Buffers'</th>\n",
       "      <th>'Cached'</th>\n",
       "      <th>'Active'</th>\n",
       "      <th>'Inactive'</th>\n",
       "      <th>...</th>\n",
       "      <th>'Writeback'</th>\n",
       "      <th>'Mapped'</th>\n",
       "      <th>'Slab'</th>\n",
       "      <th>'PageTables'</th>\n",
       "      <th>'Committed_AS'</th>\n",
       "      <th>'NumOfAllocFH'</th>\n",
       "      <th>'proc-fd'</th>\n",
       "      <th>'avgThroughput'</th>\n",
       "      <th>'avgElapsed'</th>\n",
       "      <th>cluster</th>\n",
       "    </tr>\n",
       "  </thead>\n",
       "  <tbody>\n",
       "    <tr>\n",
       "      <th>0</th>\n",
       "      <td>144012</td>\n",
       "      <td>126424</td>\n",
       "      <td>14224</td>\n",
       "      <td>14224</td>\n",
       "      <td>108</td>\n",
       "      <td>9</td>\n",
       "      <td>29064</td>\n",
       "      <td>334600</td>\n",
       "      <td>0</td>\n",
       "      <td>131152</td>\n",
       "      <td>...</td>\n",
       "      <td>5621452</td>\n",
       "      <td>156</td>\n",
       "      <td>0</td>\n",
       "      <td>67408</td>\n",
       "      <td>22840</td>\n",
       "      <td>26160</td>\n",
       "      <td>6968</td>\n",
       "      <td>268820</td>\n",
       "      <td>510</td>\n",
       "      <td>0</td>\n",
       "    </tr>\n",
       "    <tr>\n",
       "      <th>1</th>\n",
       "      <td>152272</td>\n",
       "      <td>150216</td>\n",
       "      <td>24508</td>\n",
       "      <td>23708</td>\n",
       "      <td>160</td>\n",
       "      <td>9</td>\n",
       "      <td>29144</td>\n",
       "      <td>334640</td>\n",
       "      <td>0</td>\n",
       "      <td>139780</td>\n",
       "      <td>...</td>\n",
       "      <td>5610188</td>\n",
       "      <td>40</td>\n",
       "      <td>0</td>\n",
       "      <td>76172</td>\n",
       "      <td>23700</td>\n",
       "      <td>27792</td>\n",
       "      <td>7192</td>\n",
       "      <td>293700</td>\n",
       "      <td>510</td>\n",
       "      <td>0</td>\n",
       "    </tr>\n",
       "    <tr>\n",
       "      <th>2</th>\n",
       "      <td>152272</td>\n",
       "      <td>150216</td>\n",
       "      <td>24628</td>\n",
       "      <td>24588</td>\n",
       "      <td>160</td>\n",
       "      <td>15</td>\n",
       "      <td>29240</td>\n",
       "      <td>334640</td>\n",
       "      <td>0</td>\n",
       "      <td>140764</td>\n",
       "      <td>...</td>\n",
       "      <td>5609652</td>\n",
       "      <td>144</td>\n",
       "      <td>0</td>\n",
       "      <td>76608</td>\n",
       "      <td>23708</td>\n",
       "      <td>27996</td>\n",
       "      <td>7188</td>\n",
       "      <td>293336</td>\n",
       "      <td>510</td>\n",
       "      <td>0</td>\n",
       "    </tr>\n",
       "    <tr>\n",
       "      <th>3</th>\n",
       "      <td>152272</td>\n",
       "      <td>150216</td>\n",
       "      <td>24628</td>\n",
       "      <td>24500</td>\n",
       "      <td>160</td>\n",
       "      <td>35</td>\n",
       "      <td>29336</td>\n",
       "      <td>334640</td>\n",
       "      <td>0</td>\n",
       "      <td>140624</td>\n",
       "      <td>...</td>\n",
       "      <td>5610232</td>\n",
       "      <td>176</td>\n",
       "      <td>0</td>\n",
       "      <td>76608</td>\n",
       "      <td>23708</td>\n",
       "      <td>27996</td>\n",
       "      <td>7196</td>\n",
       "      <td>293336</td>\n",
       "      <td>510</td>\n",
       "      <td>0</td>\n",
       "    </tr>\n",
       "    <tr>\n",
       "      <th>4</th>\n",
       "      <td>152272</td>\n",
       "      <td>150216</td>\n",
       "      <td>24628</td>\n",
       "      <td>24580</td>\n",
       "      <td>160</td>\n",
       "      <td>29</td>\n",
       "      <td>29432</td>\n",
       "      <td>334640</td>\n",
       "      <td>0</td>\n",
       "      <td>140704</td>\n",
       "      <td>...</td>\n",
       "      <td>5610032</td>\n",
       "      <td>20</td>\n",
       "      <td>0</td>\n",
       "      <td>76792</td>\n",
       "      <td>23708</td>\n",
       "      <td>27948</td>\n",
       "      <td>7196</td>\n",
       "      <td>295484</td>\n",
       "      <td>1020</td>\n",
       "      <td>0</td>\n",
       "    </tr>\n",
       "    <tr>\n",
       "      <th>...</th>\n",
       "      <td>...</td>\n",
       "      <td>...</td>\n",
       "      <td>...</td>\n",
       "      <td>...</td>\n",
       "      <td>...</td>\n",
       "      <td>...</td>\n",
       "      <td>...</td>\n",
       "      <td>...</td>\n",
       "      <td>...</td>\n",
       "      <td>...</td>\n",
       "      <td>...</td>\n",
       "      <td>...</td>\n",
       "      <td>...</td>\n",
       "      <td>...</td>\n",
       "      <td>...</td>\n",
       "      <td>...</td>\n",
       "      <td>...</td>\n",
       "      <td>...</td>\n",
       "      <td>...</td>\n",
       "      <td>...</td>\n",
       "      <td>...</td>\n",
       "    </tr>\n",
       "    <tr>\n",
       "      <th>4990</th>\n",
       "      <td>172388</td>\n",
       "      <td>170340</td>\n",
       "      <td>32696</td>\n",
       "      <td>32000</td>\n",
       "      <td>200</td>\n",
       "      <td>9</td>\n",
       "      <td>135292</td>\n",
       "      <td>1117196</td>\n",
       "      <td>0</td>\n",
       "      <td>414048</td>\n",
       "      <td>...</td>\n",
       "      <td>4631756</td>\n",
       "      <td>164</td>\n",
       "      <td>0</td>\n",
       "      <td>84340</td>\n",
       "      <td>23740</td>\n",
       "      <td>109528</td>\n",
       "      <td>7208</td>\n",
       "      <td>316044</td>\n",
       "      <td>1020</td>\n",
       "      <td>3</td>\n",
       "    </tr>\n",
       "    <tr>\n",
       "      <th>4991</th>\n",
       "      <td>172388</td>\n",
       "      <td>170340</td>\n",
       "      <td>32696</td>\n",
       "      <td>32000</td>\n",
       "      <td>200</td>\n",
       "      <td>9</td>\n",
       "      <td>135356</td>\n",
       "      <td>1117196</td>\n",
       "      <td>0</td>\n",
       "      <td>414080</td>\n",
       "      <td>...</td>\n",
       "      <td>4631872</td>\n",
       "      <td>164</td>\n",
       "      <td>0</td>\n",
       "      <td>84340</td>\n",
       "      <td>23740</td>\n",
       "      <td>109532</td>\n",
       "      <td>7208</td>\n",
       "      <td>315824</td>\n",
       "      <td>1020</td>\n",
       "      <td>3</td>\n",
       "    </tr>\n",
       "    <tr>\n",
       "      <th>4992</th>\n",
       "      <td>172388</td>\n",
       "      <td>170340</td>\n",
       "      <td>32696</td>\n",
       "      <td>32000</td>\n",
       "      <td>200</td>\n",
       "      <td>59</td>\n",
       "      <td>135408</td>\n",
       "      <td>1117208</td>\n",
       "      <td>0</td>\n",
       "      <td>414124</td>\n",
       "      <td>...</td>\n",
       "      <td>4631720</td>\n",
       "      <td>48</td>\n",
       "      <td>0</td>\n",
       "      <td>84340</td>\n",
       "      <td>23740</td>\n",
       "      <td>109612</td>\n",
       "      <td>7208</td>\n",
       "      <td>317924</td>\n",
       "      <td>1530</td>\n",
       "      <td>9</td>\n",
       "    </tr>\n",
       "    <tr>\n",
       "      <th>4993</th>\n",
       "      <td>172388</td>\n",
       "      <td>170340</td>\n",
       "      <td>32696</td>\n",
       "      <td>32000</td>\n",
       "      <td>200</td>\n",
       "      <td>45</td>\n",
       "      <td>135456</td>\n",
       "      <td>1117212</td>\n",
       "      <td>0</td>\n",
       "      <td>414172</td>\n",
       "      <td>...</td>\n",
       "      <td>4631592</td>\n",
       "      <td>20</td>\n",
       "      <td>0</td>\n",
       "      <td>84340</td>\n",
       "      <td>23740</td>\n",
       "      <td>109664</td>\n",
       "      <td>7204</td>\n",
       "      <td>317776</td>\n",
       "      <td>1530</td>\n",
       "      <td>9</td>\n",
       "    </tr>\n",
       "    <tr>\n",
       "      <th>4994</th>\n",
       "      <td>172388</td>\n",
       "      <td>170340</td>\n",
       "      <td>32696</td>\n",
       "      <td>32004</td>\n",
       "      <td>200</td>\n",
       "      <td>34</td>\n",
       "      <td>135476</td>\n",
       "      <td>1117208</td>\n",
       "      <td>0</td>\n",
       "      <td>414256</td>\n",
       "      <td>...</td>\n",
       "      <td>4631300</td>\n",
       "      <td>40</td>\n",
       "      <td>0</td>\n",
       "      <td>84348</td>\n",
       "      <td>23740</td>\n",
       "      <td>109616</td>\n",
       "      <td>7208</td>\n",
       "      <td>315268</td>\n",
       "      <td>1530</td>\n",
       "      <td>8</td>\n",
       "    </tr>\n",
       "  </tbody>\n",
       "</table>\n",
       "<p>4995 rows × 21 columns</p>\n",
       "</div>"
      ],
      "text/plain": [
       "      'VmPeak'  'VmSize'  'VmHWM'  'VmRSS'  'VmPTE'  'Threads'  'Buffers'  \\\n",
       "0       144012    126424    14224    14224      108          9      29064   \n",
       "1       152272    150216    24508    23708      160          9      29144   \n",
       "2       152272    150216    24628    24588      160         15      29240   \n",
       "3       152272    150216    24628    24500      160         35      29336   \n",
       "4       152272    150216    24628    24580      160         29      29432   \n",
       "...        ...       ...      ...      ...      ...        ...        ...   \n",
       "4990    172388    170340    32696    32000      200          9     135292   \n",
       "4991    172388    170340    32696    32000      200          9     135356   \n",
       "4992    172388    170340    32696    32000      200         59     135408   \n",
       "4993    172388    170340    32696    32000      200         45     135456   \n",
       "4994    172388    170340    32696    32004      200         34     135476   \n",
       "\n",
       "      'Cached'  'Active'  'Inactive'  ...  'Writeback'  'Mapped'  'Slab'  \\\n",
       "0       334600         0      131152  ...      5621452       156       0   \n",
       "1       334640         0      139780  ...      5610188        40       0   \n",
       "2       334640         0      140764  ...      5609652       144       0   \n",
       "3       334640         0      140624  ...      5610232       176       0   \n",
       "4       334640         0      140704  ...      5610032        20       0   \n",
       "...        ...       ...         ...  ...          ...       ...     ...   \n",
       "4990   1117196         0      414048  ...      4631756       164       0   \n",
       "4991   1117196         0      414080  ...      4631872       164       0   \n",
       "4992   1117208         0      414124  ...      4631720        48       0   \n",
       "4993   1117212         0      414172  ...      4631592        20       0   \n",
       "4994   1117208         0      414256  ...      4631300        40       0   \n",
       "\n",
       "      'PageTables'  'Committed_AS'  'NumOfAllocFH'  'proc-fd'  \\\n",
       "0            67408           22840           26160       6968   \n",
       "1            76172           23700           27792       7192   \n",
       "2            76608           23708           27996       7188   \n",
       "3            76608           23708           27996       7196   \n",
       "4            76792           23708           27948       7196   \n",
       "...            ...             ...             ...        ...   \n",
       "4990         84340           23740          109528       7208   \n",
       "4991         84340           23740          109532       7208   \n",
       "4992         84340           23740          109612       7208   \n",
       "4993         84340           23740          109664       7204   \n",
       "4994         84348           23740          109616       7208   \n",
       "\n",
       "      'avgThroughput'  'avgElapsed'  cluster  \n",
       "0              268820           510        0  \n",
       "1              293700           510        0  \n",
       "2              293336           510        0  \n",
       "3              293336           510        0  \n",
       "4              295484          1020        0  \n",
       "...               ...           ...      ...  \n",
       "4990           316044          1020        3  \n",
       "4991           315824          1020        3  \n",
       "4992           317924          1530        9  \n",
       "4993           317776          1530        9  \n",
       "4994           315268          1530        8  \n",
       "\n",
       "[4995 rows x 21 columns]"
      ]
     },
     "execution_count": 10,
     "metadata": {},
     "output_type": "execute_result"
    }
   ],
   "source": [
    "df_clus = pd.read_csv('cluster_active.csv', sep = ';')\n",
    "df_clus.astype(int)\n",
    "df_clus.head()\n",
    "n_clusters = df_clus['Cluster'].max()\n",
    "df_clus['Cluster'] -= 1\n",
    "print(n_clusters)\n",
    "df_clustered = df_rough\n",
    "df_clustered.loc[:,'cluster'] = df_clus['Cluster']\n",
    "df_clustered\n"
   ]
  },
  {
   "cell_type": "markdown",
   "metadata": {},
   "source": [
    "## 5. Deviance\n",
    "As we already said, we want a synthetic workload to be representative of the real one, in term of variability of the data. For this reason, we need to observ how both techniques used in the characterization process affect the worload variance.\n",
    "\n",
    "Let's start by computing the total deviance of the workload."
   ]
  },
  {
   "cell_type": "code",
   "execution_count": 11,
   "metadata": {},
   "outputs": [
    {
     "data": {
      "text/plain": [
       "99899.99999999999"
      ]
     },
     "execution_count": 11,
     "metadata": {},
     "output_type": "execute_result"
    }
   ],
   "source": [
    "dev_tot = df_scaled.sub(df_scaled.mean()).pow(2).sum().sum()\n",
    "dev_tot"
   ]
  },
  {
   "cell_type": "markdown",
   "metadata": {},
   "source": [
    "### 5.1. Deviance after PCA\n",
    "Now let's compute the deviance preserved by PCA."
   ]
  },
  {
   "cell_type": "code",
   "execution_count": 31,
   "metadata": {
    "scrolled": true
   },
   "outputs": [
    {
     "name": "stdout",
     "output_type": "stream",
     "text": [
      "      Principale1  Principale2  Principale3  Principale4  Principale5  \\\n",
      "0      -17.712506     8.276706    -6.073880    -0.151787    -3.609697   \n",
      "1      -13.220506    11.477604    -3.296623    -0.131609    -2.088678   \n",
      "2      -13.127571    11.517033    -3.311583    -0.128026    -2.107410   \n",
      "3      -13.010236    11.616249    -3.312798    -0.115067    -2.226533   \n",
      "4      -13.157124    11.481500    -3.092469    -0.062941    -0.993723   \n",
      "...           ...          ...          ...          ...          ...   \n",
      "4990    -1.919031    -0.572088    -0.076570    -0.064100    -0.227820   \n",
      "4991    -1.925325    -0.575293    -0.076681    -0.064253    -0.229395   \n",
      "4992    -1.802894    -0.530750     0.027052     0.023077     0.609904   \n",
      "4993    -1.887246    -0.599394     0.036789     0.013955     0.694459   \n",
      "4994    -2.009602    -0.651639     0.078853     0.005892     0.766831   \n",
      "\n",
      "      Principale6  Principale7  \n",
      "0        0.910962    -0.033210  \n",
      "1       -0.269760    -0.653543  \n",
      "2       -0.255147    -0.559213  \n",
      "3       -0.352340    -0.203529  \n",
      "4        0.108221     0.304298  \n",
      "...           ...          ...  \n",
      "4990    -0.034243    -1.295826  \n",
      "4991    -0.034955    -1.294855  \n",
      "4992     0.270059     0.248934  \n",
      "4993     0.327946    -0.000388  \n",
      "4994     0.330548    -0.207655  \n",
      "\n",
      "[4995 rows x 7 columns]\n"
     ]
    }
   ],
   "source": [
    "df_princ_comp = df_princ_comp.iloc[:,0:7]\n",
    "print(df_princ_comp)\n",
    "dev_pca = df_princ_comp.sub(df_princ_comp.mean()).pow(2).sum().sum()\n"
   ]
  },
  {
   "cell_type": "code",
   "execution_count": 30,
   "metadata": {},
   "outputs": [
    {
     "name": "stdout",
     "output_type": "stream",
     "text": [
      "94396.81999606364\n"
     ]
    },
    {
     "data": {
      "text/plain": [
       "0.9449131130737103"
      ]
     },
     "execution_count": 30,
     "metadata": {},
     "output_type": "execute_result"
    }
   ],
   "source": [
    "print(dev_pca)\n",
    "dev_pca_ratio = dev_pca/dev_tot\n",
    "dev_pca_ratio"
   ]
  },
  {
   "cell_type": "markdown",
   "metadata": {},
   "source": [
    "As expected, considering just three of the principal components, we are including the 84% of the total deviance."
   ]
  },
  {
   "cell_type": "markdown",
   "metadata": {},
   "source": [
    "### 5.2. Deviance after clustering\n",
    "Now we can see how clustering affects deviance of data. First of all, total deviance of clustered data (deviance after PCA) can be written as:<br>\n",
    "<center>$d_{PCA} = d_{intra} + d_{inter}$</center>\n",
    "\n",
    "where $d_{intra}$ and $d_{inter}$ are called respectively *intra-cluster deviance* and *inter-cluster deviance*.\n",
    "Since we consider just one random point for each cluster, $d_{intra}$ is the amount of deviance lost form PCA deviance, whereas $d_{inter}$ it the amount of deviance preserved."
   ]
  },
  {
   "cell_type": "markdown",
   "metadata": {},
   "source": [
    "#### Intra-cluster deviance\n",
    "Intra-cluster deviance is the sum of the deviance of each cluster:<br>\n",
    "<center>$d_{intra} = \\sum_{k=1}^{K} \\sum_{i=1}^{n_k} ||x_i - \\overline x_k||$</center>\n",
    "\n",
    "where:\n",
    "- $K$ is the number of clusters\n",
    "- $n_k$ is the number of points of cluster $k$\n",
    "- $x_i$ is the $i$-th point of cluster $k$\n",
    "- $\\overline x_k$ is the centroid of cluster $k$"
   ]
  },
  {
   "cell_type": "code",
   "execution_count": 14,
   "metadata": {
    "scrolled": true
   },
   "outputs": [],
   "source": [
    "df_clustering.loc[:,'cluster'] = df_clus['Cluster']\n",
    "n_elem = df_clustering.groupby('cluster').count().values[:,0]\n",
    "centroids = df_clustering.groupby('cluster').mean()"
   ]
  },
  {
   "cell_type": "code",
   "execution_count": 15,
   "metadata": {},
   "outputs": [
    {
     "data": {
      "text/plain": [
       "6469.871842089305"
      ]
     },
     "execution_count": 15,
     "metadata": {},
     "output_type": "execute_result"
    }
   ],
   "source": [
    "arr = np.zeros(shape=(n_clusters,1))\n",
    "\n",
    "for i in range(n_clusters):\n",
    "    elem_i = df_clustering.loc[df_clustering['cluster'] == i].drop(columns='cluster')\n",
    "    arr[i] = elem_i.sub(centroids.loc[i,:]).pow(2).sum().sum()\n",
    "    \n",
    "dev_intra = arr.sum()\n",
    "dev_intra"
   ]
  },
  {
   "cell_type": "code",
   "execution_count": 16,
   "metadata": {},
   "outputs": [
    {
     "data": {
      "text/plain": [
       "0.06853908682897474"
      ]
     },
     "execution_count": 16,
     "metadata": {},
     "output_type": "execute_result"
    }
   ],
   "source": [
    "dev_intra_ratio = dev_intra/dev_pca\n",
    "dev_intra_ratio"
   ]
  },
  {
   "cell_type": "markdown",
   "metadata": {},
   "source": [
    "#### Inter-cluster deviance\n",
    "Inter-cluster deviance is defined as:<br>\n",
    "<center>$d_{inter} = \\sum_{k=1}^{K} n_k ||\\overline x_k - \\overline x||$</center>\n",
    "\n",
    "where:\n",
    "- $K$ is the number of clusters\n",
    "- $n_k$ is the number of points of cluster $k$\n",
    "- $\\overline x_k$ is the centroid of cluster $k$\n",
    "- $\\overline x_ = \\frac{1}{n} \\sum_{i=1}^{n} x_i$ is the mean of all data points."
   ]
  },
  {
   "cell_type": "code",
   "execution_count": 17,
   "metadata": {},
   "outputs": [
    {
     "data": {
      "text/plain": [
       "87926.94815397434"
      ]
     },
     "execution_count": 17,
     "metadata": {},
     "output_type": "execute_result"
    }
   ],
   "source": [
    "dev_inter = centroids.sub(df_clustering.mean()).pow(2).mul(n_elem, axis=0).sum().sum()\n",
    "dev_inter"
   ]
  },
  {
   "cell_type": "code",
   "execution_count": 18,
   "metadata": {},
   "outputs": [
    {
     "data": {
      "text/plain": [
       "0.9314609131710253"
      ]
     },
     "execution_count": 18,
     "metadata": {},
     "output_type": "execute_result"
    }
   ],
   "source": [
    "dev_inter_ratio = dev_inter/dev_pca\n",
    "dev_inter_ratio"
   ]
  },
  {
   "cell_type": "markdown",
   "metadata": {},
   "source": [
    "Before moving forward, let's check that the sum of intra and inter-cluster deviance is equal to the deviance preserved by PCA."
   ]
  },
  {
   "cell_type": "code",
   "execution_count": 19,
   "metadata": {},
   "outputs": [
    {
     "name": "stdout",
     "output_type": "stream",
     "text": [
      "dev_intra + dev_inter = 94396.81999606364\n",
      "dev_pca = 94396.81999606364\n"
     ]
    }
   ],
   "source": [
    "print('dev_intra + dev_inter = ' + str(dev_intra + dev_inter))\n",
    "print('dev_pca = ' + str(dev_pca))"
   ]
  },
  {
   "cell_type": "markdown",
   "metadata": {},
   "source": [
    "### 5.3. Loss of deviance\n",
    "Finally we can compute the total loss of deviance due to both PCA and clustering."
   ]
  },
  {
   "cell_type": "markdown",
   "metadata": {},
   "source": [
    "#### 1st approach \n",
    "Deviance lost can be seen as the sum of deviance lost because of PCA and deviance lost because of clustering (intra-cluster deviance), which is relative to deviance preserved by PCA."
   ]
  },
  {
   "cell_type": "code",
   "execution_count": 20,
   "metadata": {},
   "outputs": [
    {
     "data": {
      "text/plain": [
       "0.11985036882908556"
      ]
     },
     "execution_count": 20,
     "metadata": {},
     "output_type": "execute_result"
    }
   ],
   "source": [
    "dev_lost_ratio = (1-dev_pca_ratio) + dev_intra_ratio * dev_pca_ratio\n",
    "dev_lost_ratio"
   ]
  },
  {
   "cell_type": "markdown",
   "metadata": {},
   "source": [
    "#### 2nd approach\n",
    "Deviance lost can be seen as total deviance minus total deviance preserved, which is the product of deviance preserved by PCA and deviance preserved by clustering (inter-cluster deviance)."
   ]
  },
  {
   "cell_type": "code",
   "execution_count": 21,
   "metadata": {},
   "outputs": [
    {
     "data": {
      "text/plain": [
       "0.11985036882908551"
      ]
     },
     "execution_count": 21,
     "metadata": {},
     "output_type": "execute_result"
    }
   ],
   "source": [
    "dev_lost_ratio = 1 - dev_inter_ratio * dev_pca_ratio\n",
    "dev_lost_ratio"
   ]
  },
  {
   "cell_type": "markdown",
   "metadata": {},
   "source": [
    "## 6. Trade-off\n",
    "On one hand the dimension reduction of the workload depends on the number of clusters. On the other hand the loss of deviance caused by PCA and clustering depends not only on the cluster's number but also on the number of principal components. For this reason, we need to find the number of clusters and components that ensure the best trade-off between deviance lost and dimension reduction."
   ]
  },
  {
   "cell_type": "markdown",
   "metadata": {},
   "source": [
    "### 6.1. Deviance lost\n",
    "To see how deviance changes depending on those parameters, we execute all the steps shown in the previous sections for different numbers of principal components and clusters. We vary component's number from 3 (84% of explained variance) to 6 (95% of explained variance) and cluster's number from 1 to 20."
   ]
  },
  {
   "cell_type": "code",
   "execution_count": 22,
   "metadata": {},
   "outputs": [],
   "source": [
    "nmin_comp = 3\n",
    "nmax_comp = 7\n",
    "n_comp = nmax_comp-nmin_comp+1\n",
    "\n",
    "nmax_cluster = 20\n",
    "\n",
    "array_dev_lost = np.zeros(shape=(nmax_cluster,n_comp))\n",
    "\n",
    "for i in range(nmin_comp,nmax_comp+1):\n",
    "    for j in range(1,nmax_cluster+1):\n",
    "        \n",
    "        df_clustering = df_princ_comp.iloc[:,0:i]\n",
    "            \n",
    "        # clustering\n",
    "        clustering = AgglomerativeClustering(n_clusters=j)\n",
    "        clustering = clustering.fit(df_clustering.values)\n",
    "        df_clustering.insert(len(df_clustering.columns), 'cluster', clustering.labels_)\n",
    "\n",
    "        # deviance PCA\n",
    "        df_pca = df_princ_comp.iloc[:,0:i]\n",
    "        dev_pca = df_pca.sub(df_pca.mean()).pow(2).sum().sum()\n",
    "\n",
    "        # deviance clustering \n",
    "        n_elem = df_clustering.groupby('cluster').count().values[:,0]\n",
    "        centroids = df_clustering.groupby('cluster').mean()\n",
    "\n",
    "        # intra-cluster deviance\n",
    "        arr = np.zeros(shape=(j,1))\n",
    "        for k in range(j):\n",
    "            elem_k = df_clustering.loc[df_clustering['cluster'] == k].drop(columns='cluster')\n",
    "            arr[k] = elem_k.sub(centroids.loc[k,:]).pow(2).sum().sum()\n",
    "        dev_intra = arr.sum()\n",
    "\n",
    "        # inter-cluster deviance\n",
    "        dev_inter = centroids.sub(df_clustering.mean()).pow(2).mul(n_elem, axis=0).sum().sum()\n",
    "        dev_inter\n",
    "\n",
    "        # deviance lost\n",
    "        dev_pca_ratio = dev_pca/dev_tot\n",
    "        dev_inter_ratio = dev_inter/dev_pca\n",
    "        dev_lost = 1 - dev_inter_ratio * dev_pca_ratio\n",
    "\n",
    "        array_dev_lost[j-1][i-n_comp+1] = dev_lost\n",
    "                \n",
    "# array_dev_lost"
   ]
  },
  {
   "cell_type": "markdown",
   "metadata": {},
   "source": [
    "Now we can see how the deviance changes depending on number of clusters, for different numbers of principal components."
   ]
  },
  {
   "cell_type": "code",
   "execution_count": 23,
   "metadata": {},
   "outputs": [
    {
     "data": {
      "image/png": "[encoded data removed]",
      "text/plain": [
       "<Figure size 504x360 with 1 Axes>"
      ]
     },
     "metadata": {
      "image/png": {
       "height": 331,
       "width": 454
      },
      "needs_background": "light"
     },
     "output_type": "display_data"
    }
   ],
   "source": [
    "x = np.arange(1,nmax_cluster+1)\n",
    "\n",
    "plt.figure(figsize=(7,5))\n",
    "\n",
    "for i in range(nmin_comp,nmax_comp+1):\n",
    "    y_dev_lost = array_dev_lost[:,i-n_comp+1]\n",
    "    plt.plot(x, y_dev_lost)\n",
    "    \n",
    "c = [str(s) for s in range(nmin_comp,nmax_comp+1)]\n",
    "c = [s + ' comp' for s in c]\n",
    "    \n",
    "plt.title('Deviance lost')\n",
    "plt.ylabel('Deviance lost ratio')\n",
    "plt.xlabel('Number of clusters')\n",
    "plt.xticks(range(nmax_cluster+1))\n",
    "plt.yticks(np.linspace(0,y_dev_lost.max(),20))\n",
    "plt.grid(color='k', linestyle='-', linewidth=0.1)\n",
    "plt.legend(c)\n",
    "plt.savefig(\"varpersa.svg\", format = \"svg\")\n",
    "plt.show()\n"
   ]
  },
  {
   "cell_type": "markdown",
   "metadata": {},
   "source": [
    "As we can see, the deviance lost decreases with the rise of clusters number, regardless of the number of principal components. It is reasonable since increasing the number of clusters we are considering more data points.\n",
    "Anyway, the deviance lost doesn't decrease linearly, as the curve settles down once reached 6 clusters.\n",
    "\n",
    "Moreover, if the number of clusters is smaller than 6, the deviance lost does not depend too much on principal compontens number. On the contrary, if clusters are 6 or more than 6, it decreases as the number of components grows. For istance, with 6 clusters, the difference between choosing 3 or 6 compontents is 5%, in term of deviance lost."
   ]
  },
  {
   "cell_type": "markdown",
   "metadata": {},
   "source": [
    "### 6.2. Dimension reduction\n",
    "Dimension reduction of workload can be measure looking at the ratio between number of values (number of columns times number of rows) of the synthetic workload and number of values of the real one. As we already said, reduction depends only on the number of clusters, as the synthetic workload dimension increase linearly with the number of clusters."
   ]
  },
  {
   "cell_type": "code",
   "execution_count": 24,
   "metadata": {},
   "outputs": [
    {
     "data": {
      "text/plain": [
       "array([0.0002002, 0.0004004, 0.0006006, 0.0008008, 0.001001 , 0.0012012,\n",
       "       0.0014014, 0.0016016, 0.0018018, 0.002002 , 0.0022022, 0.0024024,\n",
       "       0.0026026, 0.0028028, 0.003003 , 0.0032032, 0.0034034, 0.0036036,\n",
       "       0.0038038, 0.004004 ])"
      ]
     },
     "execution_count": 24,
     "metadata": {},
     "output_type": "execute_result"
    }
   ],
   "source": [
    "dim_synt = np.arange(1,nmax_cluster+1)*df_rough.shape[1]\n",
    "dim_real = df_rough.size\n",
    "\n",
    "array_dim = dim_synt/dim_real\n",
    "array_dim"
   ]
  },
  {
   "cell_type": "markdown",
   "metadata": {},
   "source": [
    "### 6.3. Deviance vs Dimension\n",
    "Ideally, we want both deviance lost and synthetic workload dimension to be as small as possible. The former decrease with the number of clusters (and principal components) but the latter increase with the same parameter. For this reason, we can consider the product of those quantities and look for the values of clusters and components that minimize this product."
   ]
  },
  {
   "cell_type": "code",
   "execution_count": 25,
   "metadata": {},
   "outputs": [
    {
     "data": {
      "image/png": "[encoded data removed]",
      "text/plain": [
       "<Figure size 504x360 with 1 Axes>"
      ]
     },
     "metadata": {
      "image/png": {
       "height": 331,
       "width": 460
      },
      "needs_background": "light"
     },
     "output_type": "display_data"
    }
   ],
   "source": [
    "x = np.arange(1,nmax_cluster+1)\n",
    "y_dim = array_dim\n",
    "\n",
    "plt.figure(figsize=(7,5))\n",
    "\n",
    "for i in range(nmin_comp,nmax_comp+1):\n",
    "    y_dev_lost = array_dev_lost[:,i-n_comp+1]\n",
    "    plt.plot(x, y_dim*y_dev_lost)\n",
    "\n",
    "c = [str(s) for s in range(nmin_comp,nmax_comp+1)]\n",
    "c = [s + ' comp' for s in c]\n",
    "    \n",
    "plt.title('Deviance lost vs dimension ratio')\n",
    "plt.ylabel('Deviance lost ratio * dimension ratio')\n",
    "plt.xlabel('Number of clusters')\n",
    "plt.xticks(range(nmax_cluster+1))\n",
    "plt.legend(c)\n",
    "plt.savefig(\"prod_var_dim.svg\", format = \"svg\")\n",
    "plt.show()"
   ]
  },
  {
   "cell_type": "code",
   "execution_count": 26,
   "metadata": {},
   "outputs": [
    {
     "data": {
      "text/plain": [
       "array([[1.        , 1.        , 1.        , 1.        , 1.        ],\n",
       "       [0.69051962, 0.69018958, 0.68870792, 0.68697583, 0.68927514],\n",
       "       [0.45388379, 0.45349569, 0.45205435, 0.44964422, 0.45253634],\n",
       "       [0.37366659, 0.36730904, 0.35819484, 0.35576966, 0.37251719],\n",
       "       [0.29424332, 0.28742826, 0.2709475 , 0.26436368, 0.2930908 ],\n",
       "       [0.25214326, 0.24531185, 0.22537691, 0.21877333, 0.26021593],\n",
       "       [0.21926837, 0.21020207, 0.18325835, 0.17666338, 0.25125376],\n",
       "       [0.21028467, 0.19420745, 0.16527928, 0.15590264, 0.24263915],\n",
       "       [0.20167006, 0.18545424, 0.15436258, 0.14450155, 0.23642178],\n",
       "       [0.19465953, 0.17938066, 0.14715389, 0.13680553, 0.23149916],\n",
       "       [0.18917367, 0.17361335, 0.14093015, 0.12963664, 0.22893986],\n",
       "       [0.18501104, 0.1682825 , 0.13534427, 0.12333408, 0.22658241],\n",
       "       [0.18260467, 0.16342462, 0.13063393, 0.11717015, 0.22528958],\n",
       "       [0.18024717, 0.15877162, 0.12610303, 0.11111837, 0.22426357],\n",
       "       [0.17828348, 0.15446301, 0.12272829, 0.10533241, 0.22334728],\n",
       "       [0.17693047, 0.15140677, 0.11945194, 0.10095872, 0.22261664],\n",
       "       [0.17565593, 0.14890324, 0.11625448, 0.09744094, 0.2219531 ],\n",
       "       [0.17469485, 0.1468924 , 0.1130737 , 0.09406007, 0.22128986],\n",
       "       [0.17377055, 0.14492002, 0.11109988, 0.09098948, 0.22071808],\n",
       "       [0.17304229, 0.14344024, 0.1094513 , 0.08892615, 0.22020381]])"
      ]
     },
     "execution_count": 26,
     "metadata": {},
     "output_type": "execute_result"
    }
   ],
   "source": [
    "array_dev_lost"
   ]
  },
  {
   "cell_type": "markdown",
   "metadata": {},
   "source": [
    "Looking at the above plot, we can draw the following conclusions:\n",
    "- If we want the least number of principal components that preserve a good amount of deviance, we should choose 3 components and 5 clusters;\n",
    "- If we can affoard an higher number of principal components, we should choose 5 components and 6 clusters.\n",
    "\n",
    "Anyway, we want highlight that the number of principal components and clusters depend heavily on resources available for the characterization itself and the performance analysis."
   ]
  },
  {
   "cell_type": "code",
   "execution_count": null,
   "metadata": {},
   "outputs": [],
   "source": []
  },
  {
   "cell_type": "code",
   "execution_count": null,
   "metadata": {},
   "outputs": [],
   "source": []
  },
  {
   "cell_type": "code",
   "execution_count": null,
   "metadata": {},
   "outputs": [],
   "source": []
  },
  {
   "cell_type": "code",
   "execution_count": null,
   "metadata": {},
   "outputs": [],
   "source": []
  },
  {
   "cell_type": "code",
   "execution_count": null,
   "metadata": {},
   "outputs": [],
   "source": []
  },
  {
   "cell_type": "code",
   "execution_count": null,
   "metadata": {},
   "outputs": [],
   "source": []
  },
  {
   "cell_type": "code",
   "execution_count": null,
   "metadata": {},
   "outputs": [],
   "source": []
  },
  {
   "cell_type": "code",
   "execution_count": null,
   "metadata": {},
   "outputs": [],
   "source": []
  },
  {
   "cell_type": "code",
   "execution_count": null,
   "metadata": {},
   "outputs": [],
   "source": []
  },
  {
   "cell_type": "code",
   "execution_count": null,
   "metadata": {},
   "outputs": [],
   "source": []
  },
  {
   "cell_type": "code",
   "execution_count": null,
   "metadata": {},
   "outputs": [],
   "source": []
  }
 ],
 "metadata": {
  "kernelspec": {
   "display_name": "Python 3 (ipykernel)",
   "language": "python",
   "name": "python3"
  },
  "language_info": {
   "codemirror_mode": {
    "name": "ipython",
    "version": 3
   },
   "file_extension": ".py",
   "mimetype": "text/x-python",
   "name": "python",
   "nbconvert_exporter": "python",
   "pygments_lexer": "ipython3",
   "version": "3.9.7"
  },
  "toc": {
   "base_numbering": 1,
   "nav_menu": {},
   "number_sections": true,
   "sideBar": true,
   "skip_h1_title": false,
   "title_cell": "Table of Contents",
   "title_sidebar": "Contents",
   "toc_cell": false,
   "toc_position": {},
   "toc_section_display": true,
   "toc_window_display": true
  },
  "toc-autonumbering": false
 },
 "nbformat": 4,
 "nbformat_minor": 4
}
